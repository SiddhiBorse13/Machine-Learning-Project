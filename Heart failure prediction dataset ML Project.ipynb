{
 "cells": [
  {
   "cell_type": "code",
   "execution_count": 1,
   "id": "1b8e80b3",
   "metadata": {},
   "outputs": [],
   "source": [
    "import numpy as np\n",
    "import pandas as pd\n",
    "import matplotlib.pyplot as plt\n",
    "import seaborn as sns\n",
    "from sklearn.linear_model import LogisticRegression\n",
    "from sklearn import metrics\n",
    "from sklearn.metrics import confusion_matrix,accuracy_score,ConfusionMatrixDisplay,classification_report\n",
    "from sklearn.svm import SVC\n",
    "from sklearn import tree\n",
    "from sklearn.tree import DecisionTreeClassifier\n",
    "from sklearn.ensemble import RandomForestClassifier\n",
    "import xgboost\n",
    "\n",
    "import warnings\n",
    "warnings.filterwarnings('ignore')"
   ]
  },
  {
   "cell_type": "markdown",
   "id": "5efd263a",
   "metadata": {},
   "source": [
    "## Heart Failure Prediction"
   ]
  },
  {
   "cell_type": "markdown",
   "id": "b22c3ff8",
   "metadata": {},
   "source": [
    "Heart failure is a common event caused by CVDs and this dataset contains 12 features that can be used to predict mortality by heart failure.\n",
    "Most cardiovascular diseases can be prevented by addressing behavioural risk factors such as tobacco use, unhealthy diet and obesity, physical inactivity and harmful use of alcohol using population-wide strategies.\n",
    "People with cardiovascular disease or who are at high cardiovascular risk (due to the presence of one or more risk factors such as hypertension, diabetes, hyperlipidaemia or already established disease) need early detection and management wherein a machine learning model can be of great help."
   ]
  },
  {
   "cell_type": "code",
   "execution_count": 2,
   "id": "5ce01d66",
   "metadata": {},
   "outputs": [
    {
     "data": {
      "text/html": [
       "<div>\n",
       "<style scoped>\n",
       "    .dataframe tbody tr th:only-of-type {\n",
       "        vertical-align: middle;\n",
       "    }\n",
       "\n",
       "    .dataframe tbody tr th {\n",
       "        vertical-align: top;\n",
       "    }\n",
       "\n",
       "    .dataframe thead th {\n",
       "        text-align: right;\n",
       "    }\n",
       "</style>\n",
       "<table border=\"1\" class=\"dataframe\">\n",
       "  <thead>\n",
       "    <tr style=\"text-align: right;\">\n",
       "      <th></th>\n",
       "      <th>age</th>\n",
       "      <th>anaemia</th>\n",
       "      <th>creatinine_phosphokinase</th>\n",
       "      <th>diabetes</th>\n",
       "      <th>ejection_fraction</th>\n",
       "      <th>high_blood_pressure</th>\n",
       "      <th>platelets</th>\n",
       "      <th>serum_creatinine</th>\n",
       "      <th>serum_sodium</th>\n",
       "      <th>sex</th>\n",
       "      <th>smoking</th>\n",
       "      <th>time</th>\n",
       "      <th>DEATH_EVENT</th>\n",
       "    </tr>\n",
       "  </thead>\n",
       "  <tbody>\n",
       "    <tr>\n",
       "      <th>0</th>\n",
       "      <td>75.0</td>\n",
       "      <td>0</td>\n",
       "      <td>582</td>\n",
       "      <td>0</td>\n",
       "      <td>20</td>\n",
       "      <td>1</td>\n",
       "      <td>265000.00</td>\n",
       "      <td>1.9</td>\n",
       "      <td>130</td>\n",
       "      <td>1</td>\n",
       "      <td>0</td>\n",
       "      <td>4</td>\n",
       "      <td>1</td>\n",
       "    </tr>\n",
       "    <tr>\n",
       "      <th>1</th>\n",
       "      <td>55.0</td>\n",
       "      <td>0</td>\n",
       "      <td>7861</td>\n",
       "      <td>0</td>\n",
       "      <td>38</td>\n",
       "      <td>0</td>\n",
       "      <td>263358.03</td>\n",
       "      <td>1.1</td>\n",
       "      <td>136</td>\n",
       "      <td>1</td>\n",
       "      <td>0</td>\n",
       "      <td>6</td>\n",
       "      <td>1</td>\n",
       "    </tr>\n",
       "    <tr>\n",
       "      <th>2</th>\n",
       "      <td>65.0</td>\n",
       "      <td>0</td>\n",
       "      <td>146</td>\n",
       "      <td>0</td>\n",
       "      <td>20</td>\n",
       "      <td>0</td>\n",
       "      <td>162000.00</td>\n",
       "      <td>1.3</td>\n",
       "      <td>129</td>\n",
       "      <td>1</td>\n",
       "      <td>1</td>\n",
       "      <td>7</td>\n",
       "      <td>1</td>\n",
       "    </tr>\n",
       "    <tr>\n",
       "      <th>3</th>\n",
       "      <td>50.0</td>\n",
       "      <td>1</td>\n",
       "      <td>111</td>\n",
       "      <td>0</td>\n",
       "      <td>20</td>\n",
       "      <td>0</td>\n",
       "      <td>210000.00</td>\n",
       "      <td>1.9</td>\n",
       "      <td>137</td>\n",
       "      <td>1</td>\n",
       "      <td>0</td>\n",
       "      <td>7</td>\n",
       "      <td>1</td>\n",
       "    </tr>\n",
       "    <tr>\n",
       "      <th>4</th>\n",
       "      <td>65.0</td>\n",
       "      <td>1</td>\n",
       "      <td>160</td>\n",
       "      <td>1</td>\n",
       "      <td>20</td>\n",
       "      <td>0</td>\n",
       "      <td>327000.00</td>\n",
       "      <td>2.7</td>\n",
       "      <td>116</td>\n",
       "      <td>0</td>\n",
       "      <td>0</td>\n",
       "      <td>8</td>\n",
       "      <td>1</td>\n",
       "    </tr>\n",
       "    <tr>\n",
       "      <th>...</th>\n",
       "      <td>...</td>\n",
       "      <td>...</td>\n",
       "      <td>...</td>\n",
       "      <td>...</td>\n",
       "      <td>...</td>\n",
       "      <td>...</td>\n",
       "      <td>...</td>\n",
       "      <td>...</td>\n",
       "      <td>...</td>\n",
       "      <td>...</td>\n",
       "      <td>...</td>\n",
       "      <td>...</td>\n",
       "      <td>...</td>\n",
       "    </tr>\n",
       "    <tr>\n",
       "      <th>294</th>\n",
       "      <td>62.0</td>\n",
       "      <td>0</td>\n",
       "      <td>61</td>\n",
       "      <td>1</td>\n",
       "      <td>38</td>\n",
       "      <td>1</td>\n",
       "      <td>155000.00</td>\n",
       "      <td>1.1</td>\n",
       "      <td>143</td>\n",
       "      <td>1</td>\n",
       "      <td>1</td>\n",
       "      <td>270</td>\n",
       "      <td>0</td>\n",
       "    </tr>\n",
       "    <tr>\n",
       "      <th>295</th>\n",
       "      <td>55.0</td>\n",
       "      <td>0</td>\n",
       "      <td>1820</td>\n",
       "      <td>0</td>\n",
       "      <td>38</td>\n",
       "      <td>0</td>\n",
       "      <td>270000.00</td>\n",
       "      <td>1.2</td>\n",
       "      <td>139</td>\n",
       "      <td>0</td>\n",
       "      <td>0</td>\n",
       "      <td>271</td>\n",
       "      <td>0</td>\n",
       "    </tr>\n",
       "    <tr>\n",
       "      <th>296</th>\n",
       "      <td>45.0</td>\n",
       "      <td>0</td>\n",
       "      <td>2060</td>\n",
       "      <td>1</td>\n",
       "      <td>60</td>\n",
       "      <td>0</td>\n",
       "      <td>742000.00</td>\n",
       "      <td>0.8</td>\n",
       "      <td>138</td>\n",
       "      <td>0</td>\n",
       "      <td>0</td>\n",
       "      <td>278</td>\n",
       "      <td>0</td>\n",
       "    </tr>\n",
       "    <tr>\n",
       "      <th>297</th>\n",
       "      <td>45.0</td>\n",
       "      <td>0</td>\n",
       "      <td>2413</td>\n",
       "      <td>0</td>\n",
       "      <td>38</td>\n",
       "      <td>0</td>\n",
       "      <td>140000.00</td>\n",
       "      <td>1.4</td>\n",
       "      <td>140</td>\n",
       "      <td>1</td>\n",
       "      <td>1</td>\n",
       "      <td>280</td>\n",
       "      <td>0</td>\n",
       "    </tr>\n",
       "    <tr>\n",
       "      <th>298</th>\n",
       "      <td>50.0</td>\n",
       "      <td>0</td>\n",
       "      <td>196</td>\n",
       "      <td>0</td>\n",
       "      <td>45</td>\n",
       "      <td>0</td>\n",
       "      <td>395000.00</td>\n",
       "      <td>1.6</td>\n",
       "      <td>136</td>\n",
       "      <td>1</td>\n",
       "      <td>1</td>\n",
       "      <td>285</td>\n",
       "      <td>0</td>\n",
       "    </tr>\n",
       "  </tbody>\n",
       "</table>\n",
       "<p>299 rows × 13 columns</p>\n",
       "</div>"
      ],
      "text/plain": [
       "      age  anaemia  creatinine_phosphokinase  diabetes  ejection_fraction  \\\n",
       "0    75.0        0                       582         0                 20   \n",
       "1    55.0        0                      7861         0                 38   \n",
       "2    65.0        0                       146         0                 20   \n",
       "3    50.0        1                       111         0                 20   \n",
       "4    65.0        1                       160         1                 20   \n",
       "..    ...      ...                       ...       ...                ...   \n",
       "294  62.0        0                        61         1                 38   \n",
       "295  55.0        0                      1820         0                 38   \n",
       "296  45.0        0                      2060         1                 60   \n",
       "297  45.0        0                      2413         0                 38   \n",
       "298  50.0        0                       196         0                 45   \n",
       "\n",
       "     high_blood_pressure  platelets  serum_creatinine  serum_sodium  sex  \\\n",
       "0                      1  265000.00               1.9           130    1   \n",
       "1                      0  263358.03               1.1           136    1   \n",
       "2                      0  162000.00               1.3           129    1   \n",
       "3                      0  210000.00               1.9           137    1   \n",
       "4                      0  327000.00               2.7           116    0   \n",
       "..                   ...        ...               ...           ...  ...   \n",
       "294                    1  155000.00               1.1           143    1   \n",
       "295                    0  270000.00               1.2           139    0   \n",
       "296                    0  742000.00               0.8           138    0   \n",
       "297                    0  140000.00               1.4           140    1   \n",
       "298                    0  395000.00               1.6           136    1   \n",
       "\n",
       "     smoking  time  DEATH_EVENT  \n",
       "0          0     4            1  \n",
       "1          0     6            1  \n",
       "2          1     7            1  \n",
       "3          0     7            1  \n",
       "4          0     8            1  \n",
       "..       ...   ...          ...  \n",
       "294        1   270            0  \n",
       "295        0   271            0  \n",
       "296        0   278            0  \n",
       "297        1   280            0  \n",
       "298        1   285            0  \n",
       "\n",
       "[299 rows x 13 columns]"
      ]
     },
     "execution_count": 2,
     "metadata": {},
     "output_type": "execute_result"
    }
   ],
   "source": [
    "df=pd.read_csv('Heart failure prediction dataset.csv')\n",
    "df"
   ]
  },
  {
   "cell_type": "markdown",
   "id": "e7a8430e",
   "metadata": {},
   "source": [
    "Key Features:\n",
    "\n",
    "Age: Advanced age can increase the risk of heart failure due to the natural wear and tear on the heart muscles over time.\n",
    "\n",
    "Anaemia: Low red blood cell count may lead to reduced oxygen delivery to the heart, potentially causing heart failure.\n",
    "\n",
    "Creatinine_Phosphokinase: Elevated levels may indicate heart muscle damage, which could contribute to heart failure.\n",
    "\n",
    "Diabetes: Poorly managed diabetes can damage blood vessels and nerves, increasing the likelihood of heart failure.\n",
    "\n",
    "Ejection_Fraction: A low ejection fraction (the amount of blood pumped out of the heart) may signal heart muscle weakness.\n",
    "\n",
    "High_Blood_Pressure: Prolonged high blood pressure can strain the heart and increase the risk of heart failure.\n",
    "\n",
    "Platelets: Abnormal platelet levels may lead to blood clots, which can cause heart problems, including heart failure.\n",
    "\n",
    "Serum_Creatinine: High levels may suggest impaired kidney function, affecting fluid balance and potentially leading to heart failure.\n",
    "\n",
    "Serum_Sodium: Abnormal levels can disrupt fluid balance and influence heart function, contributing to heart failure.\n",
    "\n",
    "Sex: Gender differences can impact heart disease risk, with males having a higher risk of heart failure.\n",
    "\n",
    "Smoking: Tobacco use damages blood vessels and increases the risk of heart failure.\n",
    "\n",
    "Time: The duration of exposure to risk factors and the progression of underlying conditions can influence heart failure risk.\n",
    "\n",
    "DEATH_EVENT: Patient death or not"
   ]
  },
  {
   "cell_type": "code",
   "execution_count": 3,
   "id": "3b6e409b",
   "metadata": {},
   "outputs": [],
   "source": [
    "#EDA Steps"
   ]
  },
  {
   "cell_type": "markdown",
   "id": "8d9d6e32",
   "metadata": {},
   "source": [
    "## Data Overview"
   ]
  },
  {
   "cell_type": "markdown",
   "id": "94ffc2ae",
   "metadata": {},
   "source": [
    "We first load the dataset and display basic information such as column names, data types, and non-null counts."
   ]
  },
  {
   "cell_type": "code",
   "execution_count": 4,
   "id": "49b25aee",
   "metadata": {},
   "outputs": [
    {
     "name": "stdout",
     "output_type": "stream",
     "text": [
      "<class 'pandas.core.frame.DataFrame'>\n",
      "RangeIndex: 299 entries, 0 to 298\n",
      "Data columns (total 13 columns):\n",
      " #   Column                    Non-Null Count  Dtype  \n",
      "---  ------                    --------------  -----  \n",
      " 0   age                       299 non-null    float64\n",
      " 1   anaemia                   299 non-null    int64  \n",
      " 2   creatinine_phosphokinase  299 non-null    int64  \n",
      " 3   diabetes                  299 non-null    int64  \n",
      " 4   ejection_fraction         299 non-null    int64  \n",
      " 5   high_blood_pressure       299 non-null    int64  \n",
      " 6   platelets                 299 non-null    float64\n",
      " 7   serum_creatinine          299 non-null    float64\n",
      " 8   serum_sodium              299 non-null    int64  \n",
      " 9   sex                       299 non-null    int64  \n",
      " 10  smoking                   299 non-null    int64  \n",
      " 11  time                      299 non-null    int64  \n",
      " 12  DEATH_EVENT               299 non-null    int64  \n",
      "dtypes: float64(3), int64(10)\n",
      "memory usage: 30.5 KB\n"
     ]
    }
   ],
   "source": [
    "df.info()"
   ]
  },
  {
   "cell_type": "code",
   "execution_count": 5,
   "id": "9096e912",
   "metadata": {},
   "outputs": [
    {
     "data": {
      "text/plain": [
       "Index(['age', 'anaemia', 'creatinine_phosphokinase', 'diabetes',\n",
       "       'ejection_fraction', 'high_blood_pressure', 'platelets',\n",
       "       'serum_creatinine', 'serum_sodium', 'sex', 'smoking', 'time',\n",
       "       'DEATH_EVENT'],\n",
       "      dtype='object')"
      ]
     },
     "execution_count": 5,
     "metadata": {},
     "output_type": "execute_result"
    }
   ],
   "source": [
    "df.columns"
   ]
  },
  {
   "cell_type": "code",
   "execution_count": 6,
   "id": "8e89f874",
   "metadata": {},
   "outputs": [
    {
     "data": {
      "text/html": [
       "<div>\n",
       "<style scoped>\n",
       "    .dataframe tbody tr th:only-of-type {\n",
       "        vertical-align: middle;\n",
       "    }\n",
       "\n",
       "    .dataframe tbody tr th {\n",
       "        vertical-align: top;\n",
       "    }\n",
       "\n",
       "    .dataframe thead th {\n",
       "        text-align: right;\n",
       "    }\n",
       "</style>\n",
       "<table border=\"1\" class=\"dataframe\">\n",
       "  <thead>\n",
       "    <tr style=\"text-align: right;\">\n",
       "      <th></th>\n",
       "      <th>age</th>\n",
       "      <th>anaemia</th>\n",
       "      <th>creatinine_phosphokinase</th>\n",
       "      <th>diabetes</th>\n",
       "      <th>ejection_fraction</th>\n",
       "      <th>high_blood_pressure</th>\n",
       "      <th>platelets</th>\n",
       "      <th>serum_creatinine</th>\n",
       "      <th>serum_sodium</th>\n",
       "      <th>sex</th>\n",
       "      <th>smoking</th>\n",
       "      <th>time</th>\n",
       "      <th>DEATH_EVENT</th>\n",
       "    </tr>\n",
       "  </thead>\n",
       "  <tbody>\n",
       "    <tr>\n",
       "      <th>count</th>\n",
       "      <td>299.000000</td>\n",
       "      <td>299.000000</td>\n",
       "      <td>299.000000</td>\n",
       "      <td>299.000000</td>\n",
       "      <td>299.000000</td>\n",
       "      <td>299.000000</td>\n",
       "      <td>299.000000</td>\n",
       "      <td>299.00000</td>\n",
       "      <td>299.000000</td>\n",
       "      <td>299.000000</td>\n",
       "      <td>299.00000</td>\n",
       "      <td>299.000000</td>\n",
       "      <td>299.00000</td>\n",
       "    </tr>\n",
       "    <tr>\n",
       "      <th>mean</th>\n",
       "      <td>60.833893</td>\n",
       "      <td>0.431438</td>\n",
       "      <td>581.839465</td>\n",
       "      <td>0.418060</td>\n",
       "      <td>38.083612</td>\n",
       "      <td>0.351171</td>\n",
       "      <td>263358.029264</td>\n",
       "      <td>1.39388</td>\n",
       "      <td>136.625418</td>\n",
       "      <td>0.648829</td>\n",
       "      <td>0.32107</td>\n",
       "      <td>130.260870</td>\n",
       "      <td>0.32107</td>\n",
       "    </tr>\n",
       "    <tr>\n",
       "      <th>std</th>\n",
       "      <td>11.894809</td>\n",
       "      <td>0.496107</td>\n",
       "      <td>970.287881</td>\n",
       "      <td>0.494067</td>\n",
       "      <td>11.834841</td>\n",
       "      <td>0.478136</td>\n",
       "      <td>97804.236869</td>\n",
       "      <td>1.03451</td>\n",
       "      <td>4.412477</td>\n",
       "      <td>0.478136</td>\n",
       "      <td>0.46767</td>\n",
       "      <td>77.614208</td>\n",
       "      <td>0.46767</td>\n",
       "    </tr>\n",
       "    <tr>\n",
       "      <th>min</th>\n",
       "      <td>40.000000</td>\n",
       "      <td>0.000000</td>\n",
       "      <td>23.000000</td>\n",
       "      <td>0.000000</td>\n",
       "      <td>14.000000</td>\n",
       "      <td>0.000000</td>\n",
       "      <td>25100.000000</td>\n",
       "      <td>0.50000</td>\n",
       "      <td>113.000000</td>\n",
       "      <td>0.000000</td>\n",
       "      <td>0.00000</td>\n",
       "      <td>4.000000</td>\n",
       "      <td>0.00000</td>\n",
       "    </tr>\n",
       "    <tr>\n",
       "      <th>25%</th>\n",
       "      <td>51.000000</td>\n",
       "      <td>0.000000</td>\n",
       "      <td>116.500000</td>\n",
       "      <td>0.000000</td>\n",
       "      <td>30.000000</td>\n",
       "      <td>0.000000</td>\n",
       "      <td>212500.000000</td>\n",
       "      <td>0.90000</td>\n",
       "      <td>134.000000</td>\n",
       "      <td>0.000000</td>\n",
       "      <td>0.00000</td>\n",
       "      <td>73.000000</td>\n",
       "      <td>0.00000</td>\n",
       "    </tr>\n",
       "    <tr>\n",
       "      <th>50%</th>\n",
       "      <td>60.000000</td>\n",
       "      <td>0.000000</td>\n",
       "      <td>250.000000</td>\n",
       "      <td>0.000000</td>\n",
       "      <td>38.000000</td>\n",
       "      <td>0.000000</td>\n",
       "      <td>262000.000000</td>\n",
       "      <td>1.10000</td>\n",
       "      <td>137.000000</td>\n",
       "      <td>1.000000</td>\n",
       "      <td>0.00000</td>\n",
       "      <td>115.000000</td>\n",
       "      <td>0.00000</td>\n",
       "    </tr>\n",
       "    <tr>\n",
       "      <th>75%</th>\n",
       "      <td>70.000000</td>\n",
       "      <td>1.000000</td>\n",
       "      <td>582.000000</td>\n",
       "      <td>1.000000</td>\n",
       "      <td>45.000000</td>\n",
       "      <td>1.000000</td>\n",
       "      <td>303500.000000</td>\n",
       "      <td>1.40000</td>\n",
       "      <td>140.000000</td>\n",
       "      <td>1.000000</td>\n",
       "      <td>1.00000</td>\n",
       "      <td>203.000000</td>\n",
       "      <td>1.00000</td>\n",
       "    </tr>\n",
       "    <tr>\n",
       "      <th>max</th>\n",
       "      <td>95.000000</td>\n",
       "      <td>1.000000</td>\n",
       "      <td>7861.000000</td>\n",
       "      <td>1.000000</td>\n",
       "      <td>80.000000</td>\n",
       "      <td>1.000000</td>\n",
       "      <td>850000.000000</td>\n",
       "      <td>9.40000</td>\n",
       "      <td>148.000000</td>\n",
       "      <td>1.000000</td>\n",
       "      <td>1.00000</td>\n",
       "      <td>285.000000</td>\n",
       "      <td>1.00000</td>\n",
       "    </tr>\n",
       "  </tbody>\n",
       "</table>\n",
       "</div>"
      ],
      "text/plain": [
       "              age     anaemia  creatinine_phosphokinase    diabetes  \\\n",
       "count  299.000000  299.000000                299.000000  299.000000   \n",
       "mean    60.833893    0.431438                581.839465    0.418060   \n",
       "std     11.894809    0.496107                970.287881    0.494067   \n",
       "min     40.000000    0.000000                 23.000000    0.000000   \n",
       "25%     51.000000    0.000000                116.500000    0.000000   \n",
       "50%     60.000000    0.000000                250.000000    0.000000   \n",
       "75%     70.000000    1.000000                582.000000    1.000000   \n",
       "max     95.000000    1.000000               7861.000000    1.000000   \n",
       "\n",
       "       ejection_fraction  high_blood_pressure      platelets  \\\n",
       "count         299.000000           299.000000     299.000000   \n",
       "mean           38.083612             0.351171  263358.029264   \n",
       "std            11.834841             0.478136   97804.236869   \n",
       "min            14.000000             0.000000   25100.000000   \n",
       "25%            30.000000             0.000000  212500.000000   \n",
       "50%            38.000000             0.000000  262000.000000   \n",
       "75%            45.000000             1.000000  303500.000000   \n",
       "max            80.000000             1.000000  850000.000000   \n",
       "\n",
       "       serum_creatinine  serum_sodium         sex    smoking        time  \\\n",
       "count         299.00000    299.000000  299.000000  299.00000  299.000000   \n",
       "mean            1.39388    136.625418    0.648829    0.32107  130.260870   \n",
       "std             1.03451      4.412477    0.478136    0.46767   77.614208   \n",
       "min             0.50000    113.000000    0.000000    0.00000    4.000000   \n",
       "25%             0.90000    134.000000    0.000000    0.00000   73.000000   \n",
       "50%             1.10000    137.000000    1.000000    0.00000  115.000000   \n",
       "75%             1.40000    140.000000    1.000000    1.00000  203.000000   \n",
       "max             9.40000    148.000000    1.000000    1.00000  285.000000   \n",
       "\n",
       "       DEATH_EVENT  \n",
       "count    299.00000  \n",
       "mean       0.32107  \n",
       "std        0.46767  \n",
       "min        0.00000  \n",
       "25%        0.00000  \n",
       "50%        0.00000  \n",
       "75%        1.00000  \n",
       "max        1.00000  "
      ]
     },
     "execution_count": 6,
     "metadata": {},
     "output_type": "execute_result"
    }
   ],
   "source": [
    "df.describe()"
   ]
  },
  {
   "cell_type": "markdown",
   "id": "b7554445",
   "metadata": {},
   "source": [
    "## Handle Null Values"
   ]
  },
  {
   "cell_type": "markdown",
   "id": "2bbfde0c",
   "metadata": {},
   "source": [
    "We check for missing values in the dataset. In this case, there are no missing values."
   ]
  },
  {
   "cell_type": "code",
   "execution_count": 7,
   "id": "cd52af17",
   "metadata": {},
   "outputs": [
    {
     "data": {
      "text/plain": [
       "age                         0\n",
       "anaemia                     0\n",
       "creatinine_phosphokinase    0\n",
       "diabetes                    0\n",
       "ejection_fraction           0\n",
       "high_blood_pressure         0\n",
       "platelets                   0\n",
       "serum_creatinine            0\n",
       "serum_sodium                0\n",
       "sex                         0\n",
       "smoking                     0\n",
       "time                        0\n",
       "DEATH_EVENT                 0\n",
       "dtype: int64"
      ]
     },
     "execution_count": 7,
     "metadata": {},
     "output_type": "execute_result"
    }
   ],
   "source": [
    "df.isnull().sum()"
   ]
  },
  {
   "cell_type": "code",
   "execution_count": 8,
   "id": "2fecbd40",
   "metadata": {},
   "outputs": [],
   "source": [
    "features=df.iloc[:,0:-1]\n",
    "target=df.iloc[:,-1]"
   ]
  },
  {
   "cell_type": "code",
   "execution_count": 9,
   "id": "43838ad9",
   "metadata": {},
   "outputs": [
    {
     "data": {
      "text/html": [
       "<div>\n",
       "<style scoped>\n",
       "    .dataframe tbody tr th:only-of-type {\n",
       "        vertical-align: middle;\n",
       "    }\n",
       "\n",
       "    .dataframe tbody tr th {\n",
       "        vertical-align: top;\n",
       "    }\n",
       "\n",
       "    .dataframe thead th {\n",
       "        text-align: right;\n",
       "    }\n",
       "</style>\n",
       "<table border=\"1\" class=\"dataframe\">\n",
       "  <thead>\n",
       "    <tr style=\"text-align: right;\">\n",
       "      <th></th>\n",
       "      <th>age</th>\n",
       "      <th>anaemia</th>\n",
       "      <th>creatinine_phosphokinase</th>\n",
       "      <th>diabetes</th>\n",
       "      <th>ejection_fraction</th>\n",
       "      <th>high_blood_pressure</th>\n",
       "      <th>platelets</th>\n",
       "      <th>serum_creatinine</th>\n",
       "      <th>serum_sodium</th>\n",
       "      <th>sex</th>\n",
       "      <th>smoking</th>\n",
       "      <th>time</th>\n",
       "    </tr>\n",
       "  </thead>\n",
       "  <tbody>\n",
       "    <tr>\n",
       "      <th>0</th>\n",
       "      <td>75.0</td>\n",
       "      <td>0</td>\n",
       "      <td>582</td>\n",
       "      <td>0</td>\n",
       "      <td>20</td>\n",
       "      <td>1</td>\n",
       "      <td>265000.00</td>\n",
       "      <td>1.9</td>\n",
       "      <td>130</td>\n",
       "      <td>1</td>\n",
       "      <td>0</td>\n",
       "      <td>4</td>\n",
       "    </tr>\n",
       "    <tr>\n",
       "      <th>1</th>\n",
       "      <td>55.0</td>\n",
       "      <td>0</td>\n",
       "      <td>7861</td>\n",
       "      <td>0</td>\n",
       "      <td>38</td>\n",
       "      <td>0</td>\n",
       "      <td>263358.03</td>\n",
       "      <td>1.1</td>\n",
       "      <td>136</td>\n",
       "      <td>1</td>\n",
       "      <td>0</td>\n",
       "      <td>6</td>\n",
       "    </tr>\n",
       "    <tr>\n",
       "      <th>2</th>\n",
       "      <td>65.0</td>\n",
       "      <td>0</td>\n",
       "      <td>146</td>\n",
       "      <td>0</td>\n",
       "      <td>20</td>\n",
       "      <td>0</td>\n",
       "      <td>162000.00</td>\n",
       "      <td>1.3</td>\n",
       "      <td>129</td>\n",
       "      <td>1</td>\n",
       "      <td>1</td>\n",
       "      <td>7</td>\n",
       "    </tr>\n",
       "    <tr>\n",
       "      <th>3</th>\n",
       "      <td>50.0</td>\n",
       "      <td>1</td>\n",
       "      <td>111</td>\n",
       "      <td>0</td>\n",
       "      <td>20</td>\n",
       "      <td>0</td>\n",
       "      <td>210000.00</td>\n",
       "      <td>1.9</td>\n",
       "      <td>137</td>\n",
       "      <td>1</td>\n",
       "      <td>0</td>\n",
       "      <td>7</td>\n",
       "    </tr>\n",
       "    <tr>\n",
       "      <th>4</th>\n",
       "      <td>65.0</td>\n",
       "      <td>1</td>\n",
       "      <td>160</td>\n",
       "      <td>1</td>\n",
       "      <td>20</td>\n",
       "      <td>0</td>\n",
       "      <td>327000.00</td>\n",
       "      <td>2.7</td>\n",
       "      <td>116</td>\n",
       "      <td>0</td>\n",
       "      <td>0</td>\n",
       "      <td>8</td>\n",
       "    </tr>\n",
       "  </tbody>\n",
       "</table>\n",
       "</div>"
      ],
      "text/plain": [
       "    age  anaemia  creatinine_phosphokinase  diabetes  ejection_fraction  \\\n",
       "0  75.0        0                       582         0                 20   \n",
       "1  55.0        0                      7861         0                 38   \n",
       "2  65.0        0                       146         0                 20   \n",
       "3  50.0        1                       111         0                 20   \n",
       "4  65.0        1                       160         1                 20   \n",
       "\n",
       "   high_blood_pressure  platelets  serum_creatinine  serum_sodium  sex  \\\n",
       "0                    1  265000.00               1.9           130    1   \n",
       "1                    0  263358.03               1.1           136    1   \n",
       "2                    0  162000.00               1.3           129    1   \n",
       "3                    0  210000.00               1.9           137    1   \n",
       "4                    0  327000.00               2.7           116    0   \n",
       "\n",
       "   smoking  time  \n",
       "0        0     4  \n",
       "1        0     6  \n",
       "2        1     7  \n",
       "3        0     7  \n",
       "4        0     8  "
      ]
     },
     "execution_count": 9,
     "metadata": {},
     "output_type": "execute_result"
    }
   ],
   "source": [
    "features.head()"
   ]
  },
  {
   "cell_type": "code",
   "execution_count": 10,
   "id": "7a8b98dc",
   "metadata": {},
   "outputs": [
    {
     "data": {
      "text/plain": [
       "0    1\n",
       "1    1\n",
       "2    1\n",
       "3    1\n",
       "4    1\n",
       "Name: DEATH_EVENT, dtype: int64"
      ]
     },
     "execution_count": 10,
     "metadata": {},
     "output_type": "execute_result"
    }
   ],
   "source": [
    "target.head()"
   ]
  },
  {
   "cell_type": "markdown",
   "id": "ad6cd002",
   "metadata": {},
   "source": [
    "## Outlier Removal"
   ]
  },
  {
   "cell_type": "markdown",
   "id": "00797e4e",
   "metadata": {},
   "source": [
    "We detect and remove outliers using the Interquartile Range (IQR) method for selected numerical columns."
   ]
  },
  {
   "cell_type": "code",
   "execution_count": 11,
   "id": "a516d038",
   "metadata": {},
   "outputs": [
    {
     "data": {
      "image/png": "[encoded data removed]",
      "text/plain": [
       "<Figure size 640x480 with 1 Axes>"
      ]
     },
     "metadata": {},
     "output_type": "display_data"
    },
    {
     "data": {
      "image/png": "[encoded data removed]",
      "text/plain": [
       "<Figure size 640x480 with 1 Axes>"
      ]
     },
     "metadata": {},
     "output_type": "display_data"
    },
    {
     "data": {
      "image/png": "[encoded data removed]",
      "text/plain": [
       "<Figure size 640x480 with 1 Axes>"
      ]
     },
     "metadata": {},
     "output_type": "display_data"
    },
    {
     "data": {
      "image/png": "[encoded data removed]",
      "text/plain": [
       "<Figure size 640x480 with 1 Axes>"
      ]
     },
     "metadata": {},
     "output_type": "display_data"
    },
    {
     "data": {
      "image/png": "[encoded data removed]",
      "text/plain": [
       "<Figure size 640x480 with 1 Axes>"
      ]
     },
     "metadata": {},
     "output_type": "display_data"
    },
    {
     "data": {
      "image/png": "[encoded data removed]",
      "text/plain": [
       "<Figure size 640x480 with 1 Axes>"
      ]
     },
     "metadata": {},
     "output_type": "display_data"
    },
    {
     "data": {
      "image/png": "[encoded data removed]",
      "text/plain": [
       "<Figure size 640x480 with 1 Axes>"
      ]
     },
     "metadata": {},
     "output_type": "display_data"
    }
   ],
   "source": [
    "#Detecting outliers\n",
    "numerical=['age','creatinine_phosphokinase','ejection_fraction','platelets','serum_creatinine','serum_sodium','time']\n",
    "for col in df[numerical]:\n",
    "    plt.boxplot(df[col], vert= False)\n",
    "    plt.title(col)\n",
    "    plt.show()"
   ]
  },
  {
   "cell_type": "code",
   "execution_count": 12,
   "id": "3c0807db",
   "metadata": {},
   "outputs": [],
   "source": [
    "#Removing outliers\n",
    "def remove_outliers(df):\n",
    "    for col in df.columns:\n",
    "        q1=df[col].quantile(0.25)\n",
    "        q3=df[col].quantile(0.75)\n",
    "        iqr=q3-q1\n",
    "        upper_bound=q3+1.5*iqr\n",
    "        lower_bound=q1-1.5*iqr\n",
    "        df=df[(df[col]>lower_bound)&(df[col]<upper_bound)]\n",
    "    return df\n",
    "\n",
    "df=remove_outliers(df)"
   ]
  },
  {
   "cell_type": "code",
   "execution_count": 13,
   "id": "64d4b597",
   "metadata": {},
   "outputs": [
    {
     "data": {
      "image/png": "[encoded data removed]",
      "text/plain": [
       "<Figure size 640x480 with 1 Axes>"
      ]
     },
     "metadata": {},
     "output_type": "display_data"
    },
    {
     "data": {
      "image/png": "[encoded data removed]",
      "text/plain": [
       "<Figure size 640x480 with 1 Axes>"
      ]
     },
     "metadata": {},
     "output_type": "display_data"
    },
    {
     "data": {
      "image/png": "[encoded data removed]",
      "text/plain": [
       "<Figure size 640x480 with 1 Axes>"
      ]
     },
     "metadata": {},
     "output_type": "display_data"
    },
    {
     "data": {
      "image/png": "[encoded data removed]",
      "text/plain": [
       "<Figure size 640x480 with 1 Axes>"
      ]
     },
     "metadata": {},
     "output_type": "display_data"
    },
    {
     "data": {
      "image/png": "[encoded data removed]",
      "text/plain": [
       "<Figure size 640x480 with 1 Axes>"
      ]
     },
     "metadata": {},
     "output_type": "display_data"
    },
    {
     "data": {
      "image/png": "[encoded data removed]",
      "text/plain": [
       "<Figure size 640x480 with 1 Axes>"
      ]
     },
     "metadata": {},
     "output_type": "display_data"
    },
    {
     "data": {
      "image/png": "[encoded data removed]",
      "text/plain": [
       "<Figure size 640x480 with 1 Axes>"
      ]
     },
     "metadata": {},
     "output_type": "display_data"
    }
   ],
   "source": [
    "#Distribution of features\n",
    "\n",
    "for i in numerical:\n",
    "    plt.hist(df[i])\n",
    "    plt.title(i + ' distribution')\n",
    "    plt.show()"
   ]
  },
  {
   "cell_type": "markdown",
   "id": "8de77017",
   "metadata": {},
   "source": [
    "## Skewness Removal"
   ]
  },
  {
   "cell_type": "markdown",
   "id": "c7b85536",
   "metadata": {},
   "source": [
    "We check for skewness in numerical features. "
   ]
  },
  {
   "cell_type": "code",
   "execution_count": 14,
   "id": "725b0896",
   "metadata": {},
   "outputs": [
    {
     "data": {
      "text/html": [
       "<div>\n",
       "<style scoped>\n",
       "    .dataframe tbody tr th:only-of-type {\n",
       "        vertical-align: middle;\n",
       "    }\n",
       "\n",
       "    .dataframe tbody tr th {\n",
       "        vertical-align: top;\n",
       "    }\n",
       "\n",
       "    .dataframe thead th {\n",
       "        text-align: right;\n",
       "    }\n",
       "</style>\n",
       "<table border=\"1\" class=\"dataframe\">\n",
       "  <thead>\n",
       "    <tr style=\"text-align: right;\">\n",
       "      <th></th>\n",
       "      <th>age</th>\n",
       "      <th>anaemia</th>\n",
       "      <th>creatinine_phosphokinase</th>\n",
       "      <th>diabetes</th>\n",
       "      <th>ejection_fraction</th>\n",
       "      <th>high_blood_pressure</th>\n",
       "      <th>platelets</th>\n",
       "      <th>serum_creatinine</th>\n",
       "      <th>serum_sodium</th>\n",
       "      <th>sex</th>\n",
       "      <th>smoking</th>\n",
       "      <th>time</th>\n",
       "    </tr>\n",
       "  </thead>\n",
       "  <tbody>\n",
       "    <tr>\n",
       "      <th>0</th>\n",
       "      <td>75.0</td>\n",
       "      <td>0</td>\n",
       "      <td>582</td>\n",
       "      <td>0</td>\n",
       "      <td>20</td>\n",
       "      <td>1</td>\n",
       "      <td>265000.00</td>\n",
       "      <td>1.9</td>\n",
       "      <td>130</td>\n",
       "      <td>1</td>\n",
       "      <td>0</td>\n",
       "      <td>4</td>\n",
       "    </tr>\n",
       "    <tr>\n",
       "      <th>1</th>\n",
       "      <td>55.0</td>\n",
       "      <td>0</td>\n",
       "      <td>7861</td>\n",
       "      <td>0</td>\n",
       "      <td>38</td>\n",
       "      <td>0</td>\n",
       "      <td>263358.03</td>\n",
       "      <td>1.1</td>\n",
       "      <td>136</td>\n",
       "      <td>1</td>\n",
       "      <td>0</td>\n",
       "      <td>6</td>\n",
       "    </tr>\n",
       "    <tr>\n",
       "      <th>2</th>\n",
       "      <td>65.0</td>\n",
       "      <td>0</td>\n",
       "      <td>146</td>\n",
       "      <td>0</td>\n",
       "      <td>20</td>\n",
       "      <td>0</td>\n",
       "      <td>162000.00</td>\n",
       "      <td>1.3</td>\n",
       "      <td>129</td>\n",
       "      <td>1</td>\n",
       "      <td>1</td>\n",
       "      <td>7</td>\n",
       "    </tr>\n",
       "    <tr>\n",
       "      <th>3</th>\n",
       "      <td>50.0</td>\n",
       "      <td>1</td>\n",
       "      <td>111</td>\n",
       "      <td>0</td>\n",
       "      <td>20</td>\n",
       "      <td>0</td>\n",
       "      <td>210000.00</td>\n",
       "      <td>1.9</td>\n",
       "      <td>137</td>\n",
       "      <td>1</td>\n",
       "      <td>0</td>\n",
       "      <td>7</td>\n",
       "    </tr>\n",
       "    <tr>\n",
       "      <th>4</th>\n",
       "      <td>65.0</td>\n",
       "      <td>1</td>\n",
       "      <td>160</td>\n",
       "      <td>1</td>\n",
       "      <td>20</td>\n",
       "      <td>0</td>\n",
       "      <td>327000.00</td>\n",
       "      <td>2.7</td>\n",
       "      <td>116</td>\n",
       "      <td>0</td>\n",
       "      <td>0</td>\n",
       "      <td>8</td>\n",
       "    </tr>\n",
       "    <tr>\n",
       "      <th>...</th>\n",
       "      <td>...</td>\n",
       "      <td>...</td>\n",
       "      <td>...</td>\n",
       "      <td>...</td>\n",
       "      <td>...</td>\n",
       "      <td>...</td>\n",
       "      <td>...</td>\n",
       "      <td>...</td>\n",
       "      <td>...</td>\n",
       "      <td>...</td>\n",
       "      <td>...</td>\n",
       "      <td>...</td>\n",
       "    </tr>\n",
       "    <tr>\n",
       "      <th>294</th>\n",
       "      <td>62.0</td>\n",
       "      <td>0</td>\n",
       "      <td>61</td>\n",
       "      <td>1</td>\n",
       "      <td>38</td>\n",
       "      <td>1</td>\n",
       "      <td>155000.00</td>\n",
       "      <td>1.1</td>\n",
       "      <td>143</td>\n",
       "      <td>1</td>\n",
       "      <td>1</td>\n",
       "      <td>270</td>\n",
       "    </tr>\n",
       "    <tr>\n",
       "      <th>295</th>\n",
       "      <td>55.0</td>\n",
       "      <td>0</td>\n",
       "      <td>1820</td>\n",
       "      <td>0</td>\n",
       "      <td>38</td>\n",
       "      <td>0</td>\n",
       "      <td>270000.00</td>\n",
       "      <td>1.2</td>\n",
       "      <td>139</td>\n",
       "      <td>0</td>\n",
       "      <td>0</td>\n",
       "      <td>271</td>\n",
       "    </tr>\n",
       "    <tr>\n",
       "      <th>296</th>\n",
       "      <td>45.0</td>\n",
       "      <td>0</td>\n",
       "      <td>2060</td>\n",
       "      <td>1</td>\n",
       "      <td>60</td>\n",
       "      <td>0</td>\n",
       "      <td>742000.00</td>\n",
       "      <td>0.8</td>\n",
       "      <td>138</td>\n",
       "      <td>0</td>\n",
       "      <td>0</td>\n",
       "      <td>278</td>\n",
       "    </tr>\n",
       "    <tr>\n",
       "      <th>297</th>\n",
       "      <td>45.0</td>\n",
       "      <td>0</td>\n",
       "      <td>2413</td>\n",
       "      <td>0</td>\n",
       "      <td>38</td>\n",
       "      <td>0</td>\n",
       "      <td>140000.00</td>\n",
       "      <td>1.4</td>\n",
       "      <td>140</td>\n",
       "      <td>1</td>\n",
       "      <td>1</td>\n",
       "      <td>280</td>\n",
       "    </tr>\n",
       "    <tr>\n",
       "      <th>298</th>\n",
       "      <td>50.0</td>\n",
       "      <td>0</td>\n",
       "      <td>196</td>\n",
       "      <td>0</td>\n",
       "      <td>45</td>\n",
       "      <td>0</td>\n",
       "      <td>395000.00</td>\n",
       "      <td>1.6</td>\n",
       "      <td>136</td>\n",
       "      <td>1</td>\n",
       "      <td>1</td>\n",
       "      <td>285</td>\n",
       "    </tr>\n",
       "  </tbody>\n",
       "</table>\n",
       "<p>299 rows × 12 columns</p>\n",
       "</div>"
      ],
      "text/plain": [
       "      age  anaemia  creatinine_phosphokinase  diabetes  ejection_fraction  \\\n",
       "0    75.0        0                       582         0                 20   \n",
       "1    55.0        0                      7861         0                 38   \n",
       "2    65.0        0                       146         0                 20   \n",
       "3    50.0        1                       111         0                 20   \n",
       "4    65.0        1                       160         1                 20   \n",
       "..    ...      ...                       ...       ...                ...   \n",
       "294  62.0        0                        61         1                 38   \n",
       "295  55.0        0                      1820         0                 38   \n",
       "296  45.0        0                      2060         1                 60   \n",
       "297  45.0        0                      2413         0                 38   \n",
       "298  50.0        0                       196         0                 45   \n",
       "\n",
       "     high_blood_pressure  platelets  serum_creatinine  serum_sodium  sex  \\\n",
       "0                      1  265000.00               1.9           130    1   \n",
       "1                      0  263358.03               1.1           136    1   \n",
       "2                      0  162000.00               1.3           129    1   \n",
       "3                      0  210000.00               1.9           137    1   \n",
       "4                      0  327000.00               2.7           116    0   \n",
       "..                   ...        ...               ...           ...  ...   \n",
       "294                    1  155000.00               1.1           143    1   \n",
       "295                    0  270000.00               1.2           139    0   \n",
       "296                    0  742000.00               0.8           138    0   \n",
       "297                    0  140000.00               1.4           140    1   \n",
       "298                    0  395000.00               1.6           136    1   \n",
       "\n",
       "     smoking  time  \n",
       "0          0     4  \n",
       "1          0     6  \n",
       "2          1     7  \n",
       "3          0     7  \n",
       "4          0     8  \n",
       "..       ...   ...  \n",
       "294        1   270  \n",
       "295        0   271  \n",
       "296        0   278  \n",
       "297        1   280  \n",
       "298        1   285  \n",
       "\n",
       "[299 rows x 12 columns]"
      ]
     },
     "execution_count": 14,
     "metadata": {},
     "output_type": "execute_result"
    }
   ],
   "source": [
    "col=features.select_dtypes(['int','float']).columns\n",
    "features[col]"
   ]
  },
  {
   "cell_type": "code",
   "execution_count": 15,
   "id": "98b2400e",
   "metadata": {},
   "outputs": [],
   "source": [
    "from scipy.stats import skew"
   ]
  },
  {
   "cell_type": "code",
   "execution_count": 16,
   "id": "e6ea9e55",
   "metadata": {},
   "outputs": [
    {
     "name": "stdout",
     "output_type": "stream",
     "text": [
      "age\n",
      "0.4209365580238486\n"
     ]
    },
    {
     "data": {
      "image/png": "[encoded data removed]",
      "text/plain": [
       "<Figure size 640x480 with 1 Axes>"
      ]
     },
     "metadata": {},
     "output_type": "display_data"
    },
    {
     "name": "stdout",
     "output_type": "stream",
     "text": [
      "anaemia\n",
      "0.27686275801578286\n"
     ]
    },
    {
     "data": {
      "image/png": "[encoded data removed]",
      "text/plain": [
       "<Figure size 640x480 with 1 Axes>"
      ]
     },
     "metadata": {},
     "output_type": "display_data"
    },
    {
     "name": "stdout",
     "output_type": "stream",
     "text": [
      "creatinine_phosphokinase\n",
      "4.440688625555512\n"
     ]
    },
    {
     "data": {
      "image/png": "[encoded data removed]",
      "text/plain": [
       "<Figure size 640x480 with 1 Axes>"
      ]
     },
     "metadata": {},
     "output_type": "display_data"
    },
    {
     "name": "stdout",
     "output_type": "stream",
     "text": [
      "diabetes\n",
      "0.33225111677419733\n"
     ]
    },
    {
     "data": {
      "image/png": "[encoded data removed]",
      "text/plain": [
       "<Figure size 640x480 with 1 Axes>"
      ]
     },
     "metadata": {},
     "output_type": "display_data"
    },
    {
     "name": "stdout",
     "output_type": "stream",
     "text": [
      "ejection_fraction\n",
      "0.5525926588215331\n"
     ]
    },
    {
     "data": {
      "image/png": "[encoded data removed]",
      "text/plain": [
       "<Figure size 640x480 with 1 Axes>"
      ]
     },
     "metadata": {},
     "output_type": "display_data"
    },
    {
     "name": "stdout",
     "output_type": "stream",
     "text": [
      "high_blood_pressure\n",
      "0.6235833232384503\n"
     ]
    },
    {
     "data": {
      "image/png": "[encoded data removed]",
      "text/plain": [
       "<Figure size 640x480 with 1 Axes>"
      ]
     },
     "metadata": {},
     "output_type": "display_data"
    },
    {
     "name": "stdout",
     "output_type": "stream",
     "text": [
      "platelets\n",
      "1.4549745335147466\n"
     ]
    },
    {
     "data": {
      "image/png": "[encoded data removed]",
      "text/plain": [
       "<Figure size 640x480 with 1 Axes>"
      ]
     },
     "metadata": {},
     "output_type": "display_data"
    },
    {
     "name": "stdout",
     "output_type": "stream",
     "text": [
      "serum_creatinine\n",
      "4.433610162782361\n"
     ]
    },
    {
     "data": {
      "image/png": "[encoded data removed]",
      "text/plain": [
       "<Figure size 640x480 with 1 Axes>"
      ]
     },
     "metadata": {},
     "output_type": "display_data"
    },
    {
     "name": "stdout",
     "output_type": "stream",
     "text": [
      "serum_sodium\n",
      "-1.04287046392733\n"
     ]
    },
    {
     "data": {
      "image/png": "[encoded data removed]",
      "text/plain": [
       "<Figure size 640x480 with 1 Axes>"
      ]
     },
     "metadata": {},
     "output_type": "display_data"
    },
    {
     "name": "stdout",
     "output_type": "stream",
     "text": [
      "sex\n",
      "-0.6235833232384503\n"
     ]
    },
    {
     "data": {
      "image/png": "[encoded data removed]",
      "text/plain": [
       "<Figure size 640x480 with 1 Axes>"
      ]
     },
     "metadata": {},
     "output_type": "display_data"
    },
    {
     "name": "stdout",
     "output_type": "stream",
     "text": [
      "smoking\n",
      "0.7664787911444256\n"
     ]
    },
    {
     "data": {
      "image/png": "[encoded data removed]",
      "text/plain": [
       "<Figure size 640x480 with 1 Axes>"
      ]
     },
     "metadata": {},
     "output_type": "display_data"
    },
    {
     "name": "stdout",
     "output_type": "stream",
     "text": [
      "time\n",
      "0.12716059964019436\n"
     ]
    },
    {
     "data": {
      "image/png": "[encoded data removed]",
      "text/plain": [
       "<Figure size 640x480 with 1 Axes>"
      ]
     },
     "metadata": {},
     "output_type": "display_data"
    }
   ],
   "source": [
    "for i in features[col]:\n",
    "    print(i)\n",
    "    print(skew(features[i]))\n",
    "    \n",
    "    plt.figure()\n",
    "    sns.distplot(features[i])\n",
    "    plt.show()"
   ]
  },
  {
   "cell_type": "code",
   "execution_count": 17,
   "id": "4a15c679",
   "metadata": {},
   "outputs": [
    {
     "data": {
      "text/html": [
       "<style type=\"text/css\">\n",
       "#T_71aa3_row0_col0, #T_71aa3_row1_col1, #T_71aa3_row2_col2, #T_71aa3_row3_col3, #T_71aa3_row4_col4, #T_71aa3_row5_col5, #T_71aa3_row6_col6, #T_71aa3_row7_col7, #T_71aa3_row8_col8, #T_71aa3_row9_col9, #T_71aa3_row10_col10, #T_71aa3_row11_col11, #T_71aa3_row12_col12 {\n",
       "  background-color: #023858;\n",
       "  color: #f1f1f1;\n",
       "}\n",
       "#T_71aa3_row0_col1, #T_71aa3_row4_col0, #T_71aa3_row5_col4, #T_71aa3_row12_col5 {\n",
       "  background-color: #d4d4e8;\n",
       "  color: #000000;\n",
       "}\n",
       "#T_71aa3_row0_col2 {\n",
       "  background-color: #f1ebf5;\n",
       "  color: #000000;\n",
       "}\n",
       "#T_71aa3_row0_col3, #T_71aa3_row5_col9 {\n",
       "  background-color: #f8f1f8;\n",
       "  color: #000000;\n",
       "}\n",
       "#T_71aa3_row0_col4, #T_71aa3_row5_col0 {\n",
       "  background-color: #cdd0e5;\n",
       "  color: #000000;\n",
       "}\n",
       "#T_71aa3_row0_col5 {\n",
       "  background-color: #d2d3e7;\n",
       "  color: #000000;\n",
       "}\n",
       "#T_71aa3_row0_col6 {\n",
       "  background-color: #f5eff6;\n",
       "  color: #000000;\n",
       "}\n",
       "#T_71aa3_row0_col7 {\n",
       "  background-color: #c2cbe2;\n",
       "  color: #000000;\n",
       "}\n",
       "#T_71aa3_row0_col8, #T_71aa3_row4_col2, #T_71aa3_row6_col1, #T_71aa3_row6_col7, #T_71aa3_row11_col9 {\n",
       "  background-color: #ede7f2;\n",
       "  color: #000000;\n",
       "}\n",
       "#T_71aa3_row0_col9, #T_71aa3_row3_col6, #T_71aa3_row5_col1, #T_71aa3_row5_col8, #T_71aa3_row8_col5 {\n",
       "  background-color: #dddbec;\n",
       "  color: #000000;\n",
       "}\n",
       "#T_71aa3_row0_col10, #T_71aa3_row2_col7, #T_71aa3_row3_col1, #T_71aa3_row3_col2, #T_71aa3_row4_col7, #T_71aa3_row7_col2, #T_71aa3_row8_col0, #T_71aa3_row11_col2 {\n",
       "  background-color: #e7e3f0;\n",
       "  color: #000000;\n",
       "}\n",
       "#T_71aa3_row0_col11, #T_71aa3_row1_col5, #T_71aa3_row1_col8, #T_71aa3_row8_col1, #T_71aa3_row10_col0 {\n",
       "  background-color: #dcdaeb;\n",
       "  color: #000000;\n",
       "}\n",
       "#T_71aa3_row0_col12 {\n",
       "  background-color: #6fa7ce;\n",
       "  color: #f1f1f1;\n",
       "}\n",
       "#T_71aa3_row1_col0 {\n",
       "  background-color: #ced0e6;\n",
       "  color: #000000;\n",
       "}\n",
       "#T_71aa3_row1_col2, #T_71aa3_row2_col1, #T_71aa3_row3_col9, #T_71aa3_row3_col10, #T_71aa3_row8_col7, #T_71aa3_row9_col3, #T_71aa3_row9_col6, #T_71aa3_row11_col0, #T_71aa3_row11_col5, #T_71aa3_row11_col12, #T_71aa3_row12_col4, #T_71aa3_row12_col8, #T_71aa3_row12_col11 {\n",
       "  background-color: #fff7fb;\n",
       "  color: #000000;\n",
       "}\n",
       "#T_71aa3_row1_col3, #T_71aa3_row2_col3, #T_71aa3_row5_col3 {\n",
       "  background-color: #ece7f2;\n",
       "  color: #000000;\n",
       "}\n",
       "#T_71aa3_row1_col4, #T_71aa3_row9_col0, #T_71aa3_row11_col8 {\n",
       "  background-color: #d3d4e7;\n",
       "  color: #000000;\n",
       "}\n",
       "#T_71aa3_row1_col6 {\n",
       "  background-color: #f4eef6;\n",
       "  color: #000000;\n",
       "}\n",
       "#T_71aa3_row1_col7, #T_71aa3_row7_col4 {\n",
       "  background-color: #dbdaeb;\n",
       "  color: #000000;\n",
       "}\n",
       "#T_71aa3_row1_col9 {\n",
       "  background-color: #f7f0f7;\n",
       "  color: #000000;\n",
       "}\n",
       "#T_71aa3_row1_col10, #T_71aa3_row11_col7 {\n",
       "  background-color: #faf3f9;\n",
       "  color: #000000;\n",
       "}\n",
       "#T_71aa3_row1_col11 {\n",
       "  background-color: #d0d1e6;\n",
       "  color: #000000;\n",
       "}\n",
       "#T_71aa3_row1_col12, #T_71aa3_row12_col0 {\n",
       "  background-color: #a1bbda;\n",
       "  color: #000000;\n",
       "}\n",
       "#T_71aa3_row2_col0 {\n",
       "  background-color: #eee8f3;\n",
       "  color: #000000;\n",
       "}\n",
       "#T_71aa3_row2_col4 {\n",
       "  background-color: #e0deed;\n",
       "  color: #000000;\n",
       "}\n",
       "#T_71aa3_row2_col5, #T_71aa3_row3_col0, #T_71aa3_row5_col2, #T_71aa3_row7_col10 {\n",
       "  background-color: #f0eaf4;\n",
       "  color: #000000;\n",
       "}\n",
       "#T_71aa3_row2_col6, #T_71aa3_row10_col6, #T_71aa3_row10_col7, #T_71aa3_row12_col3 {\n",
       "  background-color: #eae6f1;\n",
       "  color: #000000;\n",
       "}\n",
       "#T_71aa3_row2_col8, #T_71aa3_row3_col4, #T_71aa3_row8_col2, #T_71aa3_row12_col2 {\n",
       "  background-color: #d9d8ea;\n",
       "  color: #000000;\n",
       "}\n",
       "#T_71aa3_row2_col9, #T_71aa3_row6_col5, #T_71aa3_row7_col1 {\n",
       "  background-color: #dad9ea;\n",
       "  color: #000000;\n",
       "}\n",
       "#T_71aa3_row2_col10, #T_71aa3_row4_col3, #T_71aa3_row8_col10, #T_71aa3_row12_col9 {\n",
       "  background-color: #ebe6f2;\n",
       "  color: #000000;\n",
       "}\n",
       "#T_71aa3_row2_col11, #T_71aa3_row10_col12 {\n",
       "  background-color: #b3c3de;\n",
       "  color: #000000;\n",
       "}\n",
       "#T_71aa3_row2_col12 {\n",
       "  background-color: #a2bcda;\n",
       "  color: #000000;\n",
       "}\n",
       "#T_71aa3_row3_col5, #T_71aa3_row5_col6, #T_71aa3_row5_col7, #T_71aa3_row6_col10 {\n",
       "  background-color: #e6e2ef;\n",
       "  color: #000000;\n",
       "}\n",
       "#T_71aa3_row3_col7, #T_71aa3_row10_col5, #T_71aa3_row11_col6, #T_71aa3_row12_col10 {\n",
       "  background-color: #ede8f3;\n",
       "  color: #000000;\n",
       "}\n",
       "#T_71aa3_row3_col8 {\n",
       "  background-color: #f2ecf5;\n",
       "  color: #000000;\n",
       "}\n",
       "#T_71aa3_row3_col11 {\n",
       "  background-color: #a8bedc;\n",
       "  color: #000000;\n",
       "}\n",
       "#T_71aa3_row3_col12 {\n",
       "  background-color: #b0c2de;\n",
       "  color: #000000;\n",
       "}\n",
       "#T_71aa3_row4_col1, #T_71aa3_row4_col5 {\n",
       "  background-color: #dfddec;\n",
       "  color: #000000;\n",
       "}\n",
       "#T_71aa3_row4_col6 {\n",
       "  background-color: #e1dfed;\n",
       "  color: #000000;\n",
       "}\n",
       "#T_71aa3_row4_col8 {\n",
       "  background-color: #bcc7e1;\n",
       "  color: #000000;\n",
       "}\n",
       "#T_71aa3_row4_col9, #T_71aa3_row10_col3 {\n",
       "  background-color: #fef6fa;\n",
       "  color: #000000;\n",
       "}\n",
       "#T_71aa3_row4_col10, #T_71aa3_row10_col1, #T_71aa3_row12_col6 {\n",
       "  background-color: #f5eef6;\n",
       "  color: #000000;\n",
       "}\n",
       "#T_71aa3_row4_col11 {\n",
       "  background-color: #a7bddb;\n",
       "  color: #000000;\n",
       "}\n",
       "#T_71aa3_row4_col12 {\n",
       "  background-color: #e2dfee;\n",
       "  color: #000000;\n",
       "}\n",
       "#T_71aa3_row5_col10, #T_71aa3_row9_col1 {\n",
       "  background-color: #f3edf5;\n",
       "  color: #000000;\n",
       "}\n",
       "#T_71aa3_row5_col11, #T_71aa3_row6_col3, #T_71aa3_row6_col8, #T_71aa3_row8_col12, #T_71aa3_row12_col1 {\n",
       "  background-color: #d8d7e9;\n",
       "  color: #000000;\n",
       "}\n",
       "#T_71aa3_row5_col12 {\n",
       "  background-color: #9ebad9;\n",
       "  color: #000000;\n",
       "}\n",
       "#T_71aa3_row6_col0, #T_71aa3_row9_col8 {\n",
       "  background-color: #e9e5f1;\n",
       "  color: #000000;\n",
       "}\n",
       "#T_71aa3_row6_col2 {\n",
       "  background-color: #e0dded;\n",
       "  color: #000000;\n",
       "}\n",
       "#T_71aa3_row6_col4 {\n",
       "  background-color: #cacee5;\n",
       "  color: #000000;\n",
       "}\n",
       "#T_71aa3_row6_col9 {\n",
       "  background-color: #fbf3f9;\n",
       "  color: #000000;\n",
       "}\n",
       "#T_71aa3_row6_col11 {\n",
       "  background-color: #adc1dd;\n",
       "  color: #000000;\n",
       "}\n",
       "#T_71aa3_row6_col12, #T_71aa3_row7_col0 {\n",
       "  background-color: #bbc7e0;\n",
       "  color: #000000;\n",
       "}\n",
       "#T_71aa3_row7_col3, #T_71aa3_row9_col4 {\n",
       "  background-color: #f1ebf4;\n",
       "  color: #000000;\n",
       "}\n",
       "#T_71aa3_row7_col5, #T_71aa3_row10_col4 {\n",
       "  background-color: #e5e1ef;\n",
       "  color: #000000;\n",
       "}\n",
       "#T_71aa3_row7_col6, #T_71aa3_row9_col5 {\n",
       "  background-color: #f4edf6;\n",
       "  color: #000000;\n",
       "}\n",
       "#T_71aa3_row7_col8 {\n",
       "  background-color: #fef6fb;\n",
       "  color: #000000;\n",
       "}\n",
       "#T_71aa3_row7_col9 {\n",
       "  background-color: #e8e4f0;\n",
       "  color: #000000;\n",
       "}\n",
       "#T_71aa3_row7_col11 {\n",
       "  background-color: #d1d2e6;\n",
       "  color: #000000;\n",
       "}\n",
       "#T_71aa3_row7_col12 {\n",
       "  background-color: #62a2cb;\n",
       "  color: #f1f1f1;\n",
       "}\n",
       "#T_71aa3_row8_col3 {\n",
       "  background-color: #f6eff7;\n",
       "  color: #000000;\n",
       "}\n",
       "#T_71aa3_row8_col4 {\n",
       "  background-color: #afc1dd;\n",
       "  color: #000000;\n",
       "}\n",
       "#T_71aa3_row8_col6, #T_71aa3_row9_col7, #T_71aa3_row10_col8, #T_71aa3_row11_col3 {\n",
       "  background-color: #e3e0ee;\n",
       "  color: #000000;\n",
       "}\n",
       "#T_71aa3_row8_col9 {\n",
       "  background-color: #eee9f3;\n",
       "  color: #000000;\n",
       "}\n",
       "#T_71aa3_row8_col11 {\n",
       "  background-color: #9ab8d8;\n",
       "  color: #000000;\n",
       "}\n",
       "#T_71aa3_row9_col2 {\n",
       "  background-color: #d5d5e8;\n",
       "  color: #000000;\n",
       "}\n",
       "#T_71aa3_row9_col10 {\n",
       "  background-color: #6ba5cd;\n",
       "  color: #f1f1f1;\n",
       "}\n",
       "#T_71aa3_row9_col11 {\n",
       "  background-color: #b4c4df;\n",
       "  color: #000000;\n",
       "}\n",
       "#T_71aa3_row9_col12 {\n",
       "  background-color: #b1c2de;\n",
       "  color: #000000;\n",
       "}\n",
       "#T_71aa3_row10_col2 {\n",
       "  background-color: #e4e1ef;\n",
       "  color: #000000;\n",
       "}\n",
       "#T_71aa3_row10_col9 {\n",
       "  background-color: #69a5cc;\n",
       "  color: #f1f1f1;\n",
       "}\n",
       "#T_71aa3_row10_col11 {\n",
       "  background-color: #b5c4df;\n",
       "  color: #000000;\n",
       "}\n",
       "#T_71aa3_row11_col1 {\n",
       "  background-color: #f9f2f8;\n",
       "  color: #000000;\n",
       "}\n",
       "#T_71aa3_row11_col4 {\n",
       "  background-color: #d2d2e7;\n",
       "  color: #000000;\n",
       "}\n",
       "#T_71aa3_row11_col10 {\n",
       "  background-color: #efe9f3;\n",
       "  color: #000000;\n",
       "}\n",
       "#T_71aa3_row12_col7 {\n",
       "  background-color: #99b8d8;\n",
       "  color: #000000;\n",
       "}\n",
       "</style>\n",
       "<table id=\"T_71aa3\">\n",
       "  <thead>\n",
       "    <tr>\n",
       "      <th class=\"blank level0\" >&nbsp;</th>\n",
       "      <th id=\"T_71aa3_level0_col0\" class=\"col_heading level0 col0\" >age</th>\n",
       "      <th id=\"T_71aa3_level0_col1\" class=\"col_heading level0 col1\" >anaemia</th>\n",
       "      <th id=\"T_71aa3_level0_col2\" class=\"col_heading level0 col2\" >creatinine_phosphokinase</th>\n",
       "      <th id=\"T_71aa3_level0_col3\" class=\"col_heading level0 col3\" >diabetes</th>\n",
       "      <th id=\"T_71aa3_level0_col4\" class=\"col_heading level0 col4\" >ejection_fraction</th>\n",
       "      <th id=\"T_71aa3_level0_col5\" class=\"col_heading level0 col5\" >high_blood_pressure</th>\n",
       "      <th id=\"T_71aa3_level0_col6\" class=\"col_heading level0 col6\" >platelets</th>\n",
       "      <th id=\"T_71aa3_level0_col7\" class=\"col_heading level0 col7\" >serum_creatinine</th>\n",
       "      <th id=\"T_71aa3_level0_col8\" class=\"col_heading level0 col8\" >serum_sodium</th>\n",
       "      <th id=\"T_71aa3_level0_col9\" class=\"col_heading level0 col9\" >sex</th>\n",
       "      <th id=\"T_71aa3_level0_col10\" class=\"col_heading level0 col10\" >smoking</th>\n",
       "      <th id=\"T_71aa3_level0_col11\" class=\"col_heading level0 col11\" >time</th>\n",
       "      <th id=\"T_71aa3_level0_col12\" class=\"col_heading level0 col12\" >DEATH_EVENT</th>\n",
       "    </tr>\n",
       "  </thead>\n",
       "  <tbody>\n",
       "    <tr>\n",
       "      <th id=\"T_71aa3_level0_row0\" class=\"row_heading level0 row0\" >age</th>\n",
       "      <td id=\"T_71aa3_row0_col0\" class=\"data row0 col0\" >1.000000</td>\n",
       "      <td id=\"T_71aa3_row0_col1\" class=\"data row0 col1\" >0.088006</td>\n",
       "      <td id=\"T_71aa3_row0_col2\" class=\"data row0 col2\" >-0.081584</td>\n",
       "      <td id=\"T_71aa3_row0_col3\" class=\"data row0 col3\" >-0.101012</td>\n",
       "      <td id=\"T_71aa3_row0_col4\" class=\"data row0 col4\" >0.060098</td>\n",
       "      <td id=\"T_71aa3_row0_col5\" class=\"data row0 col5\" >0.093289</td>\n",
       "      <td id=\"T_71aa3_row0_col6\" class=\"data row0 col6\" >-0.052354</td>\n",
       "      <td id=\"T_71aa3_row0_col7\" class=\"data row0 col7\" >0.159187</td>\n",
       "      <td id=\"T_71aa3_row0_col8\" class=\"data row0 col8\" >-0.045966</td>\n",
       "      <td id=\"T_71aa3_row0_col9\" class=\"data row0 col9\" >0.065430</td>\n",
       "      <td id=\"T_71aa3_row0_col10\" class=\"data row0 col10\" >0.018668</td>\n",
       "      <td id=\"T_71aa3_row0_col11\" class=\"data row0 col11\" >-0.224068</td>\n",
       "      <td id=\"T_71aa3_row0_col12\" class=\"data row0 col12\" >0.253729</td>\n",
       "    </tr>\n",
       "    <tr>\n",
       "      <th id=\"T_71aa3_level0_row1\" class=\"row_heading level0 row1\" >anaemia</th>\n",
       "      <td id=\"T_71aa3_row1_col0\" class=\"data row1 col0\" >0.088006</td>\n",
       "      <td id=\"T_71aa3_row1_col1\" class=\"data row1 col1\" >1.000000</td>\n",
       "      <td id=\"T_71aa3_row1_col2\" class=\"data row1 col2\" >-0.190741</td>\n",
       "      <td id=\"T_71aa3_row1_col3\" class=\"data row1 col3\" >-0.012729</td>\n",
       "      <td id=\"T_71aa3_row1_col4\" class=\"data row1 col4\" >0.031557</td>\n",
       "      <td id=\"T_71aa3_row1_col5\" class=\"data row1 col5\" >0.038182</td>\n",
       "      <td id=\"T_71aa3_row1_col6\" class=\"data row1 col6\" >-0.043786</td>\n",
       "      <td id=\"T_71aa3_row1_col7\" class=\"data row1 col7\" >0.052174</td>\n",
       "      <td id=\"T_71aa3_row1_col8\" class=\"data row1 col8\" >0.041882</td>\n",
       "      <td id=\"T_71aa3_row1_col9\" class=\"data row1 col9\" >-0.094769</td>\n",
       "      <td id=\"T_71aa3_row1_col10\" class=\"data row1 col10\" >-0.107290</td>\n",
       "      <td id=\"T_71aa3_row1_col11\" class=\"data row1 col11\" >-0.141414</td>\n",
       "      <td id=\"T_71aa3_row1_col12\" class=\"data row1 col12\" >0.066270</td>\n",
       "    </tr>\n",
       "    <tr>\n",
       "      <th id=\"T_71aa3_level0_row2\" class=\"row_heading level0 row2\" >creatinine_phosphokinase</th>\n",
       "      <td id=\"T_71aa3_row2_col0\" class=\"data row2 col0\" >-0.081584</td>\n",
       "      <td id=\"T_71aa3_row2_col1\" class=\"data row2 col1\" >-0.190741</td>\n",
       "      <td id=\"T_71aa3_row2_col2\" class=\"data row2 col2\" >1.000000</td>\n",
       "      <td id=\"T_71aa3_row2_col3\" class=\"data row2 col3\" >-0.009639</td>\n",
       "      <td id=\"T_71aa3_row2_col4\" class=\"data row2 col4\" >-0.044080</td>\n",
       "      <td id=\"T_71aa3_row2_col5\" class=\"data row2 col5\" >-0.070590</td>\n",
       "      <td id=\"T_71aa3_row2_col6\" class=\"data row2 col6\" >0.024463</td>\n",
       "      <td id=\"T_71aa3_row2_col7\" class=\"data row2 col7\" >-0.016408</td>\n",
       "      <td id=\"T_71aa3_row2_col8\" class=\"data row2 col8\" >0.059550</td>\n",
       "      <td id=\"T_71aa3_row2_col9\" class=\"data row2 col9\" >0.079791</td>\n",
       "      <td id=\"T_71aa3_row2_col10\" class=\"data row2 col10\" >0.002421</td>\n",
       "      <td id=\"T_71aa3_row2_col11\" class=\"data row2 col11\" >-0.009346</td>\n",
       "      <td id=\"T_71aa3_row2_col12\" class=\"data row2 col12\" >0.062728</td>\n",
       "    </tr>\n",
       "    <tr>\n",
       "      <th id=\"T_71aa3_level0_row3\" class=\"row_heading level0 row3\" >diabetes</th>\n",
       "      <td id=\"T_71aa3_row3_col0\" class=\"data row3 col0\" >-0.101012</td>\n",
       "      <td id=\"T_71aa3_row3_col1\" class=\"data row3 col1\" >-0.012729</td>\n",
       "      <td id=\"T_71aa3_row3_col2\" class=\"data row3 col2\" >-0.009639</td>\n",
       "      <td id=\"T_71aa3_row3_col3\" class=\"data row3 col3\" >1.000000</td>\n",
       "      <td id=\"T_71aa3_row3_col4\" class=\"data row3 col4\" >-0.004850</td>\n",
       "      <td id=\"T_71aa3_row3_col5\" class=\"data row3 col5\" >-0.012732</td>\n",
       "      <td id=\"T_71aa3_row3_col6\" class=\"data row3 col6\" >0.092193</td>\n",
       "      <td id=\"T_71aa3_row3_col7\" class=\"data row3 col7\" >-0.046975</td>\n",
       "      <td id=\"T_71aa3_row3_col8\" class=\"data row3 col8\" >-0.089551</td>\n",
       "      <td id=\"T_71aa3_row3_col9\" class=\"data row3 col9\" >-0.157730</td>\n",
       "      <td id=\"T_71aa3_row3_col10\" class=\"data row3 col10\" >-0.147173</td>\n",
       "      <td id=\"T_71aa3_row3_col11\" class=\"data row3 col11\" >0.033726</td>\n",
       "      <td id=\"T_71aa3_row3_col12\" class=\"data row3 col12\" >-0.001943</td>\n",
       "    </tr>\n",
       "    <tr>\n",
       "      <th id=\"T_71aa3_level0_row4\" class=\"row_heading level0 row4\" >ejection_fraction</th>\n",
       "      <td id=\"T_71aa3_row4_col0\" class=\"data row4 col0\" >0.060098</td>\n",
       "      <td id=\"T_71aa3_row4_col1\" class=\"data row4 col1\" >0.031557</td>\n",
       "      <td id=\"T_71aa3_row4_col2\" class=\"data row4 col2\" >-0.044080</td>\n",
       "      <td id=\"T_71aa3_row4_col3\" class=\"data row4 col3\" >-0.004850</td>\n",
       "      <td id=\"T_71aa3_row4_col4\" class=\"data row4 col4\" >1.000000</td>\n",
       "      <td id=\"T_71aa3_row4_col5\" class=\"data row4 col5\" >0.024445</td>\n",
       "      <td id=\"T_71aa3_row4_col6\" class=\"data row4 col6\" >0.072177</td>\n",
       "      <td id=\"T_71aa3_row4_col7\" class=\"data row4 col7\" >-0.011302</td>\n",
       "      <td id=\"T_71aa3_row4_col8\" class=\"data row4 col8\" >0.175902</td>\n",
       "      <td id=\"T_71aa3_row4_col9\" class=\"data row4 col9\" >-0.148386</td>\n",
       "      <td id=\"T_71aa3_row4_col10\" class=\"data row4 col10\" >-0.067315</td>\n",
       "      <td id=\"T_71aa3_row4_col11\" class=\"data row4 col11\" >0.041729</td>\n",
       "      <td id=\"T_71aa3_row4_col12\" class=\"data row4 col12\" >-0.268603</td>\n",
       "    </tr>\n",
       "    <tr>\n",
       "      <th id=\"T_71aa3_level0_row5\" class=\"row_heading level0 row5\" >high_blood_pressure</th>\n",
       "      <td id=\"T_71aa3_row5_col0\" class=\"data row5 col0\" >0.093289</td>\n",
       "      <td id=\"T_71aa3_row5_col1\" class=\"data row5 col1\" >0.038182</td>\n",
       "      <td id=\"T_71aa3_row5_col2\" class=\"data row5 col2\" >-0.070590</td>\n",
       "      <td id=\"T_71aa3_row5_col3\" class=\"data row5 col3\" >-0.012732</td>\n",
       "      <td id=\"T_71aa3_row5_col4\" class=\"data row5 col4\" >0.024445</td>\n",
       "      <td id=\"T_71aa3_row5_col5\" class=\"data row5 col5\" >1.000000</td>\n",
       "      <td id=\"T_71aa3_row5_col6\" class=\"data row5 col6\" >0.049963</td>\n",
       "      <td id=\"T_71aa3_row5_col7\" class=\"data row5 col7\" >-0.004935</td>\n",
       "      <td id=\"T_71aa3_row5_col8\" class=\"data row5 col8\" >0.037109</td>\n",
       "      <td id=\"T_71aa3_row5_col9\" class=\"data row5 col9\" >-0.104615</td>\n",
       "      <td id=\"T_71aa3_row5_col10\" class=\"data row5 col10\" >-0.055711</td>\n",
       "      <td id=\"T_71aa3_row5_col11\" class=\"data row5 col11\" >-0.196439</td>\n",
       "      <td id=\"T_71aa3_row5_col12\" class=\"data row5 col12\" >0.079351</td>\n",
       "    </tr>\n",
       "    <tr>\n",
       "      <th id=\"T_71aa3_level0_row6\" class=\"row_heading level0 row6\" >platelets</th>\n",
       "      <td id=\"T_71aa3_row6_col0\" class=\"data row6 col0\" >-0.052354</td>\n",
       "      <td id=\"T_71aa3_row6_col1\" class=\"data row6 col1\" >-0.043786</td>\n",
       "      <td id=\"T_71aa3_row6_col2\" class=\"data row6 col2\" >0.024463</td>\n",
       "      <td id=\"T_71aa3_row6_col3\" class=\"data row6 col3\" >0.092193</td>\n",
       "      <td id=\"T_71aa3_row6_col4\" class=\"data row6 col4\" >0.072177</td>\n",
       "      <td id=\"T_71aa3_row6_col5\" class=\"data row6 col5\" >0.049963</td>\n",
       "      <td id=\"T_71aa3_row6_col6\" class=\"data row6 col6\" >1.000000</td>\n",
       "      <td id=\"T_71aa3_row6_col7\" class=\"data row6 col7\" >-0.041198</td>\n",
       "      <td id=\"T_71aa3_row6_col8\" class=\"data row6 col8\" >0.062125</td>\n",
       "      <td id=\"T_71aa3_row6_col9\" class=\"data row6 col9\" >-0.125120</td>\n",
       "      <td id=\"T_71aa3_row6_col10\" class=\"data row6 col10\" >0.028234</td>\n",
       "      <td id=\"T_71aa3_row6_col11\" class=\"data row6 col11\" >0.010514</td>\n",
       "      <td id=\"T_71aa3_row6_col12\" class=\"data row6 col12\" >-0.049139</td>\n",
       "    </tr>\n",
       "    <tr>\n",
       "      <th id=\"T_71aa3_level0_row7\" class=\"row_heading level0 row7\" >serum_creatinine</th>\n",
       "      <td id=\"T_71aa3_row7_col0\" class=\"data row7 col0\" >0.159187</td>\n",
       "      <td id=\"T_71aa3_row7_col1\" class=\"data row7 col1\" >0.052174</td>\n",
       "      <td id=\"T_71aa3_row7_col2\" class=\"data row7 col2\" >-0.016408</td>\n",
       "      <td id=\"T_71aa3_row7_col3\" class=\"data row7 col3\" >-0.046975</td>\n",
       "      <td id=\"T_71aa3_row7_col4\" class=\"data row7 col4\" >-0.011302</td>\n",
       "      <td id=\"T_71aa3_row7_col5\" class=\"data row7 col5\" >-0.004935</td>\n",
       "      <td id=\"T_71aa3_row7_col6\" class=\"data row7 col6\" >-0.041198</td>\n",
       "      <td id=\"T_71aa3_row7_col7\" class=\"data row7 col7\" >1.000000</td>\n",
       "      <td id=\"T_71aa3_row7_col8\" class=\"data row7 col8\" >-0.189095</td>\n",
       "      <td id=\"T_71aa3_row7_col9\" class=\"data row7 col9\" >0.006970</td>\n",
       "      <td id=\"T_71aa3_row7_col10\" class=\"data row7 col10\" >-0.027414</td>\n",
       "      <td id=\"T_71aa3_row7_col11\" class=\"data row7 col11\" >-0.149315</td>\n",
       "      <td id=\"T_71aa3_row7_col12\" class=\"data row7 col12\" >0.294278</td>\n",
       "    </tr>\n",
       "    <tr>\n",
       "      <th id=\"T_71aa3_level0_row8\" class=\"row_heading level0 row8\" >serum_sodium</th>\n",
       "      <td id=\"T_71aa3_row8_col0\" class=\"data row8 col0\" >-0.045966</td>\n",
       "      <td id=\"T_71aa3_row8_col1\" class=\"data row8 col1\" >0.041882</td>\n",
       "      <td id=\"T_71aa3_row8_col2\" class=\"data row8 col2\" >0.059550</td>\n",
       "      <td id=\"T_71aa3_row8_col3\" class=\"data row8 col3\" >-0.089551</td>\n",
       "      <td id=\"T_71aa3_row8_col4\" class=\"data row8 col4\" >0.175902</td>\n",
       "      <td id=\"T_71aa3_row8_col5\" class=\"data row8 col5\" >0.037109</td>\n",
       "      <td id=\"T_71aa3_row8_col6\" class=\"data row8 col6\" >0.062125</td>\n",
       "      <td id=\"T_71aa3_row8_col7\" class=\"data row8 col7\" >-0.189095</td>\n",
       "      <td id=\"T_71aa3_row8_col8\" class=\"data row8 col8\" >1.000000</td>\n",
       "      <td id=\"T_71aa3_row8_col9\" class=\"data row8 col9\" >-0.027566</td>\n",
       "      <td id=\"T_71aa3_row8_col10\" class=\"data row8 col10\" >0.004813</td>\n",
       "      <td id=\"T_71aa3_row8_col11\" class=\"data row8 col11\" >0.087640</td>\n",
       "      <td id=\"T_71aa3_row8_col12\" class=\"data row8 col12\" >-0.195204</td>\n",
       "    </tr>\n",
       "    <tr>\n",
       "      <th id=\"T_71aa3_level0_row9\" class=\"row_heading level0 row9\" >sex</th>\n",
       "      <td id=\"T_71aa3_row9_col0\" class=\"data row9 col0\" >0.065430</td>\n",
       "      <td id=\"T_71aa3_row9_col1\" class=\"data row9 col1\" >-0.094769</td>\n",
       "      <td id=\"T_71aa3_row9_col2\" class=\"data row9 col2\" >0.079791</td>\n",
       "      <td id=\"T_71aa3_row9_col3\" class=\"data row9 col3\" >-0.157730</td>\n",
       "      <td id=\"T_71aa3_row9_col4\" class=\"data row9 col4\" >-0.148386</td>\n",
       "      <td id=\"T_71aa3_row9_col5\" class=\"data row9 col5\" >-0.104615</td>\n",
       "      <td id=\"T_71aa3_row9_col6\" class=\"data row9 col6\" >-0.125120</td>\n",
       "      <td id=\"T_71aa3_row9_col7\" class=\"data row9 col7\" >0.006970</td>\n",
       "      <td id=\"T_71aa3_row9_col8\" class=\"data row9 col8\" >-0.027566</td>\n",
       "      <td id=\"T_71aa3_row9_col9\" class=\"data row9 col9\" >1.000000</td>\n",
       "      <td id=\"T_71aa3_row9_col10\" class=\"data row9 col10\" >0.445892</td>\n",
       "      <td id=\"T_71aa3_row9_col11\" class=\"data row9 col11\" >-0.015608</td>\n",
       "      <td id=\"T_71aa3_row9_col12\" class=\"data row9 col12\" >-0.004316</td>\n",
       "    </tr>\n",
       "    <tr>\n",
       "      <th id=\"T_71aa3_level0_row10\" class=\"row_heading level0 row10\" >smoking</th>\n",
       "      <td id=\"T_71aa3_row10_col0\" class=\"data row10 col0\" >0.018668</td>\n",
       "      <td id=\"T_71aa3_row10_col1\" class=\"data row10 col1\" >-0.107290</td>\n",
       "      <td id=\"T_71aa3_row10_col2\" class=\"data row10 col2\" >0.002421</td>\n",
       "      <td id=\"T_71aa3_row10_col3\" class=\"data row10 col3\" >-0.147173</td>\n",
       "      <td id=\"T_71aa3_row10_col4\" class=\"data row10 col4\" >-0.067315</td>\n",
       "      <td id=\"T_71aa3_row10_col5\" class=\"data row10 col5\" >-0.055711</td>\n",
       "      <td id=\"T_71aa3_row10_col6\" class=\"data row10 col6\" >0.028234</td>\n",
       "      <td id=\"T_71aa3_row10_col7\" class=\"data row10 col7\" >-0.027414</td>\n",
       "      <td id=\"T_71aa3_row10_col8\" class=\"data row10 col8\" >0.004813</td>\n",
       "      <td id=\"T_71aa3_row10_col9\" class=\"data row10 col9\" >0.445892</td>\n",
       "      <td id=\"T_71aa3_row10_col10\" class=\"data row10 col10\" >1.000000</td>\n",
       "      <td id=\"T_71aa3_row10_col11\" class=\"data row10 col11\" >-0.022839</td>\n",
       "      <td id=\"T_71aa3_row10_col12\" class=\"data row10 col12\" >-0.012623</td>\n",
       "    </tr>\n",
       "    <tr>\n",
       "      <th id=\"T_71aa3_level0_row11\" class=\"row_heading level0 row11\" >time</th>\n",
       "      <td id=\"T_71aa3_row11_col0\" class=\"data row11 col0\" >-0.224068</td>\n",
       "      <td id=\"T_71aa3_row11_col1\" class=\"data row11 col1\" >-0.141414</td>\n",
       "      <td id=\"T_71aa3_row11_col2\" class=\"data row11 col2\" >-0.009346</td>\n",
       "      <td id=\"T_71aa3_row11_col3\" class=\"data row11 col3\" >0.033726</td>\n",
       "      <td id=\"T_71aa3_row11_col4\" class=\"data row11 col4\" >0.041729</td>\n",
       "      <td id=\"T_71aa3_row11_col5\" class=\"data row11 col5\" >-0.196439</td>\n",
       "      <td id=\"T_71aa3_row11_col6\" class=\"data row11 col6\" >0.010514</td>\n",
       "      <td id=\"T_71aa3_row11_col7\" class=\"data row11 col7\" >-0.149315</td>\n",
       "      <td id=\"T_71aa3_row11_col8\" class=\"data row11 col8\" >0.087640</td>\n",
       "      <td id=\"T_71aa3_row11_col9\" class=\"data row11 col9\" >-0.015608</td>\n",
       "      <td id=\"T_71aa3_row11_col10\" class=\"data row11 col10\" >-0.022839</td>\n",
       "      <td id=\"T_71aa3_row11_col11\" class=\"data row11 col11\" >1.000000</td>\n",
       "      <td id=\"T_71aa3_row11_col12\" class=\"data row11 col12\" >-0.526964</td>\n",
       "    </tr>\n",
       "    <tr>\n",
       "      <th id=\"T_71aa3_level0_row12\" class=\"row_heading level0 row12\" >DEATH_EVENT</th>\n",
       "      <td id=\"T_71aa3_row12_col0\" class=\"data row12 col0\" >0.253729</td>\n",
       "      <td id=\"T_71aa3_row12_col1\" class=\"data row12 col1\" >0.066270</td>\n",
       "      <td id=\"T_71aa3_row12_col2\" class=\"data row12 col2\" >0.062728</td>\n",
       "      <td id=\"T_71aa3_row12_col3\" class=\"data row12 col3\" >-0.001943</td>\n",
       "      <td id=\"T_71aa3_row12_col4\" class=\"data row12 col4\" >-0.268603</td>\n",
       "      <td id=\"T_71aa3_row12_col5\" class=\"data row12 col5\" >0.079351</td>\n",
       "      <td id=\"T_71aa3_row12_col6\" class=\"data row12 col6\" >-0.049139</td>\n",
       "      <td id=\"T_71aa3_row12_col7\" class=\"data row12 col7\" >0.294278</td>\n",
       "      <td id=\"T_71aa3_row12_col8\" class=\"data row12 col8\" >-0.195204</td>\n",
       "      <td id=\"T_71aa3_row12_col9\" class=\"data row12 col9\" >-0.004316</td>\n",
       "      <td id=\"T_71aa3_row12_col10\" class=\"data row12 col10\" >-0.012623</td>\n",
       "      <td id=\"T_71aa3_row12_col11\" class=\"data row12 col11\" >-0.526964</td>\n",
       "      <td id=\"T_71aa3_row12_col12\" class=\"data row12 col12\" >1.000000</td>\n",
       "    </tr>\n",
       "  </tbody>\n",
       "</table>\n"
      ],
      "text/plain": [
       "<pandas.io.formats.style.Styler at 0x276402b1c60>"
      ]
     },
     "execution_count": 17,
     "metadata": {},
     "output_type": "execute_result"
    }
   ],
   "source": [
    "pd.concat([features,target],axis=1).corr().style.background_gradient()"
   ]
  },
  {
   "cell_type": "markdown",
   "id": "2c1f8541",
   "metadata": {},
   "source": [
    "## Encoding"
   ]
  },
  {
   "cell_type": "markdown",
   "id": "344025a1",
   "metadata": {},
   "source": [
    "We check if categorical variables need encoding. In this dataset, binary variables 'sex', 'smoking', and 'high_blood_pressure' do not require encoding."
   ]
  },
  {
   "cell_type": "code",
   "execution_count": 18,
   "id": "78c94cfb",
   "metadata": {},
   "outputs": [
    {
     "data": {
      "text/html": [
       "<div>\n",
       "<style scoped>\n",
       "    .dataframe tbody tr th:only-of-type {\n",
       "        vertical-align: middle;\n",
       "    }\n",
       "\n",
       "    .dataframe tbody tr th {\n",
       "        vertical-align: top;\n",
       "    }\n",
       "\n",
       "    .dataframe thead th {\n",
       "        text-align: right;\n",
       "    }\n",
       "</style>\n",
       "<table border=\"1\" class=\"dataframe\">\n",
       "  <thead>\n",
       "    <tr style=\"text-align: right;\">\n",
       "      <th></th>\n",
       "      <th>age</th>\n",
       "      <th>anaemia</th>\n",
       "      <th>creatinine_phosphokinase</th>\n",
       "      <th>diabetes</th>\n",
       "      <th>ejection_fraction</th>\n",
       "      <th>high_blood_pressure</th>\n",
       "      <th>platelets</th>\n",
       "      <th>serum_creatinine</th>\n",
       "      <th>serum_sodium</th>\n",
       "      <th>sex</th>\n",
       "      <th>smoking</th>\n",
       "      <th>time</th>\n",
       "      <th>DEATH_EVENT</th>\n",
       "    </tr>\n",
       "  </thead>\n",
       "  <tbody>\n",
       "    <tr>\n",
       "      <th>0</th>\n",
       "      <td>75.0</td>\n",
       "      <td>0</td>\n",
       "      <td>582</td>\n",
       "      <td>0</td>\n",
       "      <td>20</td>\n",
       "      <td>1</td>\n",
       "      <td>265000.0</td>\n",
       "      <td>1.9</td>\n",
       "      <td>130</td>\n",
       "      <td>1</td>\n",
       "      <td>0</td>\n",
       "      <td>4</td>\n",
       "      <td>1</td>\n",
       "    </tr>\n",
       "    <tr>\n",
       "      <th>2</th>\n",
       "      <td>65.0</td>\n",
       "      <td>0</td>\n",
       "      <td>146</td>\n",
       "      <td>0</td>\n",
       "      <td>20</td>\n",
       "      <td>0</td>\n",
       "      <td>162000.0</td>\n",
       "      <td>1.3</td>\n",
       "      <td>129</td>\n",
       "      <td>1</td>\n",
       "      <td>1</td>\n",
       "      <td>7</td>\n",
       "      <td>1</td>\n",
       "    </tr>\n",
       "    <tr>\n",
       "      <th>3</th>\n",
       "      <td>50.0</td>\n",
       "      <td>1</td>\n",
       "      <td>111</td>\n",
       "      <td>0</td>\n",
       "      <td>20</td>\n",
       "      <td>0</td>\n",
       "      <td>210000.0</td>\n",
       "      <td>1.9</td>\n",
       "      <td>137</td>\n",
       "      <td>1</td>\n",
       "      <td>0</td>\n",
       "      <td>7</td>\n",
       "      <td>1</td>\n",
       "    </tr>\n",
       "    <tr>\n",
       "      <th>5</th>\n",
       "      <td>90.0</td>\n",
       "      <td>1</td>\n",
       "      <td>47</td>\n",
       "      <td>0</td>\n",
       "      <td>40</td>\n",
       "      <td>1</td>\n",
       "      <td>204000.0</td>\n",
       "      <td>2.1</td>\n",
       "      <td>132</td>\n",
       "      <td>1</td>\n",
       "      <td>1</td>\n",
       "      <td>8</td>\n",
       "      <td>1</td>\n",
       "    </tr>\n",
       "    <tr>\n",
       "      <th>6</th>\n",
       "      <td>75.0</td>\n",
       "      <td>1</td>\n",
       "      <td>246</td>\n",
       "      <td>0</td>\n",
       "      <td>15</td>\n",
       "      <td>0</td>\n",
       "      <td>127000.0</td>\n",
       "      <td>1.2</td>\n",
       "      <td>137</td>\n",
       "      <td>1</td>\n",
       "      <td>0</td>\n",
       "      <td>10</td>\n",
       "      <td>1</td>\n",
       "    </tr>\n",
       "    <tr>\n",
       "      <th>...</th>\n",
       "      <td>...</td>\n",
       "      <td>...</td>\n",
       "      <td>...</td>\n",
       "      <td>...</td>\n",
       "      <td>...</td>\n",
       "      <td>...</td>\n",
       "      <td>...</td>\n",
       "      <td>...</td>\n",
       "      <td>...</td>\n",
       "      <td>...</td>\n",
       "      <td>...</td>\n",
       "      <td>...</td>\n",
       "      <td>...</td>\n",
       "    </tr>\n",
       "    <tr>\n",
       "      <th>291</th>\n",
       "      <td>60.0</td>\n",
       "      <td>0</td>\n",
       "      <td>320</td>\n",
       "      <td>0</td>\n",
       "      <td>35</td>\n",
       "      <td>0</td>\n",
       "      <td>133000.0</td>\n",
       "      <td>1.4</td>\n",
       "      <td>139</td>\n",
       "      <td>1</td>\n",
       "      <td>0</td>\n",
       "      <td>258</td>\n",
       "      <td>0</td>\n",
       "    </tr>\n",
       "    <tr>\n",
       "      <th>292</th>\n",
       "      <td>52.0</td>\n",
       "      <td>0</td>\n",
       "      <td>190</td>\n",
       "      <td>1</td>\n",
       "      <td>38</td>\n",
       "      <td>0</td>\n",
       "      <td>382000.0</td>\n",
       "      <td>1.0</td>\n",
       "      <td>140</td>\n",
       "      <td>1</td>\n",
       "      <td>1</td>\n",
       "      <td>258</td>\n",
       "      <td>0</td>\n",
       "    </tr>\n",
       "    <tr>\n",
       "      <th>293</th>\n",
       "      <td>63.0</td>\n",
       "      <td>1</td>\n",
       "      <td>103</td>\n",
       "      <td>1</td>\n",
       "      <td>35</td>\n",
       "      <td>0</td>\n",
       "      <td>179000.0</td>\n",
       "      <td>0.9</td>\n",
       "      <td>136</td>\n",
       "      <td>1</td>\n",
       "      <td>1</td>\n",
       "      <td>270</td>\n",
       "      <td>0</td>\n",
       "    </tr>\n",
       "    <tr>\n",
       "      <th>294</th>\n",
       "      <td>62.0</td>\n",
       "      <td>0</td>\n",
       "      <td>61</td>\n",
       "      <td>1</td>\n",
       "      <td>38</td>\n",
       "      <td>1</td>\n",
       "      <td>155000.0</td>\n",
       "      <td>1.1</td>\n",
       "      <td>143</td>\n",
       "      <td>1</td>\n",
       "      <td>1</td>\n",
       "      <td>270</td>\n",
       "      <td>0</td>\n",
       "    </tr>\n",
       "    <tr>\n",
       "      <th>298</th>\n",
       "      <td>50.0</td>\n",
       "      <td>0</td>\n",
       "      <td>196</td>\n",
       "      <td>0</td>\n",
       "      <td>45</td>\n",
       "      <td>0</td>\n",
       "      <td>395000.0</td>\n",
       "      <td>1.6</td>\n",
       "      <td>136</td>\n",
       "      <td>1</td>\n",
       "      <td>1</td>\n",
       "      <td>285</td>\n",
       "      <td>0</td>\n",
       "    </tr>\n",
       "  </tbody>\n",
       "</table>\n",
       "<p>223 rows × 13 columns</p>\n",
       "</div>"
      ],
      "text/plain": [
       "      age  anaemia  creatinine_phosphokinase  diabetes  ejection_fraction  \\\n",
       "0    75.0        0                       582         0                 20   \n",
       "2    65.0        0                       146         0                 20   \n",
       "3    50.0        1                       111         0                 20   \n",
       "5    90.0        1                        47         0                 40   \n",
       "6    75.0        1                       246         0                 15   \n",
       "..    ...      ...                       ...       ...                ...   \n",
       "291  60.0        0                       320         0                 35   \n",
       "292  52.0        0                       190         1                 38   \n",
       "293  63.0        1                       103         1                 35   \n",
       "294  62.0        0                        61         1                 38   \n",
       "298  50.0        0                       196         0                 45   \n",
       "\n",
       "     high_blood_pressure  platelets  serum_creatinine  serum_sodium  sex  \\\n",
       "0                      1   265000.0               1.9           130    1   \n",
       "2                      0   162000.0               1.3           129    1   \n",
       "3                      0   210000.0               1.9           137    1   \n",
       "5                      1   204000.0               2.1           132    1   \n",
       "6                      0   127000.0               1.2           137    1   \n",
       "..                   ...        ...               ...           ...  ...   \n",
       "291                    0   133000.0               1.4           139    1   \n",
       "292                    0   382000.0               1.0           140    1   \n",
       "293                    0   179000.0               0.9           136    1   \n",
       "294                    1   155000.0               1.1           143    1   \n",
       "298                    0   395000.0               1.6           136    1   \n",
       "\n",
       "     smoking  time  DEATH_EVENT  \n",
       "0          0     4            1  \n",
       "2          1     7            1  \n",
       "3          0     7            1  \n",
       "5          1     8            1  \n",
       "6          0    10            1  \n",
       "..       ...   ...          ...  \n",
       "291        0   258            0  \n",
       "292        1   258            0  \n",
       "293        1   270            0  \n",
       "294        1   270            0  \n",
       "298        1   285            0  \n",
       "\n",
       "[223 rows x 13 columns]"
      ]
     },
     "execution_count": 18,
     "metadata": {},
     "output_type": "execute_result"
    }
   ],
   "source": [
    "df"
   ]
  },
  {
   "cell_type": "markdown",
   "id": "62b14516",
   "metadata": {},
   "source": [
    "## Data Scaling"
   ]
  },
  {
   "cell_type": "markdown",
   "id": "7455de01",
   "metadata": {},
   "source": [
    " We standardize numerical columns using StandardScaler to bring them to a common scale."
   ]
  },
  {
   "cell_type": "code",
   "execution_count": 19,
   "id": "9a5ef41d",
   "metadata": {},
   "outputs": [],
   "source": [
    "from sklearn.preprocessing import StandardScaler\n",
    "scaler=StandardScaler()"
   ]
  },
  {
   "cell_type": "code",
   "execution_count": 20,
   "id": "000aa4ed",
   "metadata": {},
   "outputs": [],
   "source": [
    "numcol=['age','creatinine_phosphokinase','ejection_fraction','platelets','serum_creatinine','serum_sodium']\n",
    "df[numcol]=scaler.fit_transform(df[numcol])"
   ]
  },
  {
   "cell_type": "code",
   "execution_count": 21,
   "id": "442630e9",
   "metadata": {},
   "outputs": [
    {
     "data": {
      "text/html": [
       "<div>\n",
       "<style scoped>\n",
       "    .dataframe tbody tr th:only-of-type {\n",
       "        vertical-align: middle;\n",
       "    }\n",
       "\n",
       "    .dataframe tbody tr th {\n",
       "        vertical-align: top;\n",
       "    }\n",
       "\n",
       "    .dataframe thead th {\n",
       "        text-align: right;\n",
       "    }\n",
       "</style>\n",
       "<table border=\"1\" class=\"dataframe\">\n",
       "  <thead>\n",
       "    <tr style=\"text-align: right;\">\n",
       "      <th></th>\n",
       "      <th>age</th>\n",
       "      <th>creatinine_phosphokinase</th>\n",
       "      <th>ejection_fraction</th>\n",
       "      <th>platelets</th>\n",
       "      <th>serum_creatinine</th>\n",
       "      <th>serum_sodium</th>\n",
       "    </tr>\n",
       "  </thead>\n",
       "  <tbody>\n",
       "    <tr>\n",
       "      <th>0</th>\n",
       "      <td>1.197013</td>\n",
       "      <td>0.885051</td>\n",
       "      <td>-1.556152</td>\n",
       "      <td>0.136644</td>\n",
       "      <td>2.360754</td>\n",
       "      <td>-1.908282</td>\n",
       "    </tr>\n",
       "    <tr>\n",
       "      <th>2</th>\n",
       "      <td>0.357246</td>\n",
       "      <td>-0.679924</td>\n",
       "      <td>-1.556152</td>\n",
       "      <td>-1.397214</td>\n",
       "      <td>0.527505</td>\n",
       "      <td>-2.177105</td>\n",
       "    </tr>\n",
       "    <tr>\n",
       "      <th>3</th>\n",
       "      <td>-0.902405</td>\n",
       "      <td>-0.805553</td>\n",
       "      <td>-1.556152</td>\n",
       "      <td>-0.682406</td>\n",
       "      <td>2.360754</td>\n",
       "      <td>-0.026521</td>\n",
       "    </tr>\n",
       "    <tr>\n",
       "      <th>5</th>\n",
       "      <td>2.456664</td>\n",
       "      <td>-1.035274</td>\n",
       "      <td>0.165187</td>\n",
       "      <td>-0.771757</td>\n",
       "      <td>2.971837</td>\n",
       "      <td>-1.370636</td>\n",
       "    </tr>\n",
       "    <tr>\n",
       "      <th>6</th>\n",
       "      <td>1.197013</td>\n",
       "      <td>-0.320985</td>\n",
       "      <td>-1.986487</td>\n",
       "      <td>-1.918427</td>\n",
       "      <td>0.221963</td>\n",
       "      <td>-0.026521</td>\n",
       "    </tr>\n",
       "    <tr>\n",
       "      <th>...</th>\n",
       "      <td>...</td>\n",
       "      <td>...</td>\n",
       "      <td>...</td>\n",
       "      <td>...</td>\n",
       "      <td>...</td>\n",
       "      <td>...</td>\n",
       "    </tr>\n",
       "    <tr>\n",
       "      <th>291</th>\n",
       "      <td>-0.062638</td>\n",
       "      <td>-0.055370</td>\n",
       "      <td>-0.265148</td>\n",
       "      <td>-1.829077</td>\n",
       "      <td>0.833046</td>\n",
       "      <td>0.511125</td>\n",
       "    </tr>\n",
       "    <tr>\n",
       "      <th>292</th>\n",
       "      <td>-0.734451</td>\n",
       "      <td>-0.521991</td>\n",
       "      <td>-0.006947</td>\n",
       "      <td>1.878987</td>\n",
       "      <td>-0.389120</td>\n",
       "      <td>0.779948</td>\n",
       "    </tr>\n",
       "    <tr>\n",
       "      <th>293</th>\n",
       "      <td>0.189293</td>\n",
       "      <td>-0.834268</td>\n",
       "      <td>-0.265148</td>\n",
       "      <td>-1.144053</td>\n",
       "      <td>-0.694662</td>\n",
       "      <td>-0.295344</td>\n",
       "    </tr>\n",
       "    <tr>\n",
       "      <th>294</th>\n",
       "      <td>0.105316</td>\n",
       "      <td>-0.985022</td>\n",
       "      <td>-0.006947</td>\n",
       "      <td>-1.501456</td>\n",
       "      <td>-0.083579</td>\n",
       "      <td>1.586417</td>\n",
       "    </tr>\n",
       "    <tr>\n",
       "      <th>298</th>\n",
       "      <td>-0.902405</td>\n",
       "      <td>-0.500455</td>\n",
       "      <td>0.595522</td>\n",
       "      <td>2.072581</td>\n",
       "      <td>1.444129</td>\n",
       "      <td>-0.295344</td>\n",
       "    </tr>\n",
       "  </tbody>\n",
       "</table>\n",
       "<p>223 rows × 6 columns</p>\n",
       "</div>"
      ],
      "text/plain": [
       "          age  creatinine_phosphokinase  ejection_fraction  platelets  \\\n",
       "0    1.197013                  0.885051          -1.556152   0.136644   \n",
       "2    0.357246                 -0.679924          -1.556152  -1.397214   \n",
       "3   -0.902405                 -0.805553          -1.556152  -0.682406   \n",
       "5    2.456664                 -1.035274           0.165187  -0.771757   \n",
       "6    1.197013                 -0.320985          -1.986487  -1.918427   \n",
       "..        ...                       ...                ...        ...   \n",
       "291 -0.062638                 -0.055370          -0.265148  -1.829077   \n",
       "292 -0.734451                 -0.521991          -0.006947   1.878987   \n",
       "293  0.189293                 -0.834268          -0.265148  -1.144053   \n",
       "294  0.105316                 -0.985022          -0.006947  -1.501456   \n",
       "298 -0.902405                 -0.500455           0.595522   2.072581   \n",
       "\n",
       "     serum_creatinine  serum_sodium  \n",
       "0            2.360754     -1.908282  \n",
       "2            0.527505     -2.177105  \n",
       "3            2.360754     -0.026521  \n",
       "5            2.971837     -1.370636  \n",
       "6            0.221963     -0.026521  \n",
       "..                ...           ...  \n",
       "291          0.833046      0.511125  \n",
       "292         -0.389120      0.779948  \n",
       "293         -0.694662     -0.295344  \n",
       "294         -0.083579      1.586417  \n",
       "298          1.444129     -0.295344  \n",
       "\n",
       "[223 rows x 6 columns]"
      ]
     },
     "execution_count": 21,
     "metadata": {},
     "output_type": "execute_result"
    }
   ],
   "source": [
    "df[numcol]"
   ]
  },
  {
   "cell_type": "markdown",
   "id": "cd9e0e7f",
   "metadata": {},
   "source": [
    "## Feature Engineering"
   ]
  },
  {
   "cell_type": "markdown",
   "id": "ea141a45",
   "metadata": {},
   "source": [
    "You can create new features based on domain knowledge or feature importance analysis.\n",
    "After completing these steps, your dataset should be prepared for further analysis or modeling."
   ]
  },
  {
   "cell_type": "code",
   "execution_count": 22,
   "id": "6527b823",
   "metadata": {},
   "outputs": [
    {
     "data": {
      "text/html": [
       "<div>\n",
       "<style scoped>\n",
       "    .dataframe tbody tr th:only-of-type {\n",
       "        vertical-align: middle;\n",
       "    }\n",
       "\n",
       "    .dataframe tbody tr th {\n",
       "        vertical-align: top;\n",
       "    }\n",
       "\n",
       "    .dataframe thead th {\n",
       "        text-align: right;\n",
       "    }\n",
       "</style>\n",
       "<table border=\"1\" class=\"dataframe\">\n",
       "  <thead>\n",
       "    <tr style=\"text-align: right;\">\n",
       "      <th></th>\n",
       "      <th>age</th>\n",
       "      <th>anaemia</th>\n",
       "      <th>creatinine_phosphokinase</th>\n",
       "      <th>diabetes</th>\n",
       "      <th>ejection_fraction</th>\n",
       "      <th>high_blood_pressure</th>\n",
       "      <th>platelets</th>\n",
       "      <th>serum_creatinine</th>\n",
       "      <th>serum_sodium</th>\n",
       "      <th>sex</th>\n",
       "      <th>smoking</th>\n",
       "      <th>time</th>\n",
       "      <th>DEATH_EVENT</th>\n",
       "    </tr>\n",
       "  </thead>\n",
       "  <tbody>\n",
       "    <tr>\n",
       "      <th>0</th>\n",
       "      <td>1.197013</td>\n",
       "      <td>0</td>\n",
       "      <td>0.885051</td>\n",
       "      <td>0</td>\n",
       "      <td>-1.556152</td>\n",
       "      <td>1</td>\n",
       "      <td>0.136644</td>\n",
       "      <td>2.360754</td>\n",
       "      <td>-1.908282</td>\n",
       "      <td>1</td>\n",
       "      <td>0</td>\n",
       "      <td>4</td>\n",
       "      <td>1</td>\n",
       "    </tr>\n",
       "    <tr>\n",
       "      <th>2</th>\n",
       "      <td>0.357246</td>\n",
       "      <td>0</td>\n",
       "      <td>-0.679924</td>\n",
       "      <td>0</td>\n",
       "      <td>-1.556152</td>\n",
       "      <td>0</td>\n",
       "      <td>-1.397214</td>\n",
       "      <td>0.527505</td>\n",
       "      <td>-2.177105</td>\n",
       "      <td>1</td>\n",
       "      <td>1</td>\n",
       "      <td>7</td>\n",
       "      <td>1</td>\n",
       "    </tr>\n",
       "    <tr>\n",
       "      <th>3</th>\n",
       "      <td>-0.902405</td>\n",
       "      <td>1</td>\n",
       "      <td>-0.805553</td>\n",
       "      <td>0</td>\n",
       "      <td>-1.556152</td>\n",
       "      <td>0</td>\n",
       "      <td>-0.682406</td>\n",
       "      <td>2.360754</td>\n",
       "      <td>-0.026521</td>\n",
       "      <td>1</td>\n",
       "      <td>0</td>\n",
       "      <td>7</td>\n",
       "      <td>1</td>\n",
       "    </tr>\n",
       "    <tr>\n",
       "      <th>5</th>\n",
       "      <td>2.456664</td>\n",
       "      <td>1</td>\n",
       "      <td>-1.035274</td>\n",
       "      <td>0</td>\n",
       "      <td>0.165187</td>\n",
       "      <td>1</td>\n",
       "      <td>-0.771757</td>\n",
       "      <td>2.971837</td>\n",
       "      <td>-1.370636</td>\n",
       "      <td>1</td>\n",
       "      <td>1</td>\n",
       "      <td>8</td>\n",
       "      <td>1</td>\n",
       "    </tr>\n",
       "    <tr>\n",
       "      <th>6</th>\n",
       "      <td>1.197013</td>\n",
       "      <td>1</td>\n",
       "      <td>-0.320985</td>\n",
       "      <td>0</td>\n",
       "      <td>-1.986487</td>\n",
       "      <td>0</td>\n",
       "      <td>-1.918427</td>\n",
       "      <td>0.221963</td>\n",
       "      <td>-0.026521</td>\n",
       "      <td>1</td>\n",
       "      <td>0</td>\n",
       "      <td>10</td>\n",
       "      <td>1</td>\n",
       "    </tr>\n",
       "    <tr>\n",
       "      <th>...</th>\n",
       "      <td>...</td>\n",
       "      <td>...</td>\n",
       "      <td>...</td>\n",
       "      <td>...</td>\n",
       "      <td>...</td>\n",
       "      <td>...</td>\n",
       "      <td>...</td>\n",
       "      <td>...</td>\n",
       "      <td>...</td>\n",
       "      <td>...</td>\n",
       "      <td>...</td>\n",
       "      <td>...</td>\n",
       "      <td>...</td>\n",
       "    </tr>\n",
       "    <tr>\n",
       "      <th>291</th>\n",
       "      <td>-0.062638</td>\n",
       "      <td>0</td>\n",
       "      <td>-0.055370</td>\n",
       "      <td>0</td>\n",
       "      <td>-0.265148</td>\n",
       "      <td>0</td>\n",
       "      <td>-1.829077</td>\n",
       "      <td>0.833046</td>\n",
       "      <td>0.511125</td>\n",
       "      <td>1</td>\n",
       "      <td>0</td>\n",
       "      <td>258</td>\n",
       "      <td>0</td>\n",
       "    </tr>\n",
       "    <tr>\n",
       "      <th>292</th>\n",
       "      <td>-0.734451</td>\n",
       "      <td>0</td>\n",
       "      <td>-0.521991</td>\n",
       "      <td>1</td>\n",
       "      <td>-0.006947</td>\n",
       "      <td>0</td>\n",
       "      <td>1.878987</td>\n",
       "      <td>-0.389120</td>\n",
       "      <td>0.779948</td>\n",
       "      <td>1</td>\n",
       "      <td>1</td>\n",
       "      <td>258</td>\n",
       "      <td>0</td>\n",
       "    </tr>\n",
       "    <tr>\n",
       "      <th>293</th>\n",
       "      <td>0.189293</td>\n",
       "      <td>1</td>\n",
       "      <td>-0.834268</td>\n",
       "      <td>1</td>\n",
       "      <td>-0.265148</td>\n",
       "      <td>0</td>\n",
       "      <td>-1.144053</td>\n",
       "      <td>-0.694662</td>\n",
       "      <td>-0.295344</td>\n",
       "      <td>1</td>\n",
       "      <td>1</td>\n",
       "      <td>270</td>\n",
       "      <td>0</td>\n",
       "    </tr>\n",
       "    <tr>\n",
       "      <th>294</th>\n",
       "      <td>0.105316</td>\n",
       "      <td>0</td>\n",
       "      <td>-0.985022</td>\n",
       "      <td>1</td>\n",
       "      <td>-0.006947</td>\n",
       "      <td>1</td>\n",
       "      <td>-1.501456</td>\n",
       "      <td>-0.083579</td>\n",
       "      <td>1.586417</td>\n",
       "      <td>1</td>\n",
       "      <td>1</td>\n",
       "      <td>270</td>\n",
       "      <td>0</td>\n",
       "    </tr>\n",
       "    <tr>\n",
       "      <th>298</th>\n",
       "      <td>-0.902405</td>\n",
       "      <td>0</td>\n",
       "      <td>-0.500455</td>\n",
       "      <td>0</td>\n",
       "      <td>0.595522</td>\n",
       "      <td>0</td>\n",
       "      <td>2.072581</td>\n",
       "      <td>1.444129</td>\n",
       "      <td>-0.295344</td>\n",
       "      <td>1</td>\n",
       "      <td>1</td>\n",
       "      <td>285</td>\n",
       "      <td>0</td>\n",
       "    </tr>\n",
       "  </tbody>\n",
       "</table>\n",
       "<p>223 rows × 13 columns</p>\n",
       "</div>"
      ],
      "text/plain": [
       "          age  anaemia  creatinine_phosphokinase  diabetes  ejection_fraction  \\\n",
       "0    1.197013        0                  0.885051         0          -1.556152   \n",
       "2    0.357246        0                 -0.679924         0          -1.556152   \n",
       "3   -0.902405        1                 -0.805553         0          -1.556152   \n",
       "5    2.456664        1                 -1.035274         0           0.165187   \n",
       "6    1.197013        1                 -0.320985         0          -1.986487   \n",
       "..        ...      ...                       ...       ...                ...   \n",
       "291 -0.062638        0                 -0.055370         0          -0.265148   \n",
       "292 -0.734451        0                 -0.521991         1          -0.006947   \n",
       "293  0.189293        1                 -0.834268         1          -0.265148   \n",
       "294  0.105316        0                 -0.985022         1          -0.006947   \n",
       "298 -0.902405        0                 -0.500455         0           0.595522   \n",
       "\n",
       "     high_blood_pressure  platelets  serum_creatinine  serum_sodium  sex  \\\n",
       "0                      1   0.136644          2.360754     -1.908282    1   \n",
       "2                      0  -1.397214          0.527505     -2.177105    1   \n",
       "3                      0  -0.682406          2.360754     -0.026521    1   \n",
       "5                      1  -0.771757          2.971837     -1.370636    1   \n",
       "6                      0  -1.918427          0.221963     -0.026521    1   \n",
       "..                   ...        ...               ...           ...  ...   \n",
       "291                    0  -1.829077          0.833046      0.511125    1   \n",
       "292                    0   1.878987         -0.389120      0.779948    1   \n",
       "293                    0  -1.144053         -0.694662     -0.295344    1   \n",
       "294                    1  -1.501456         -0.083579      1.586417    1   \n",
       "298                    0   2.072581          1.444129     -0.295344    1   \n",
       "\n",
       "     smoking  time  DEATH_EVENT  \n",
       "0          0     4            1  \n",
       "2          1     7            1  \n",
       "3          0     7            1  \n",
       "5          1     8            1  \n",
       "6          0    10            1  \n",
       "..       ...   ...          ...  \n",
       "291        0   258            0  \n",
       "292        1   258            0  \n",
       "293        1   270            0  \n",
       "294        1   270            0  \n",
       "298        1   285            0  \n",
       "\n",
       "[223 rows x 13 columns]"
      ]
     },
     "execution_count": 22,
     "metadata": {},
     "output_type": "execute_result"
    }
   ],
   "source": [
    "df"
   ]
  },
  {
   "cell_type": "markdown",
   "id": "9cc1312f",
   "metadata": {},
   "source": [
    "## Machine learning models"
   ]
  },
  {
   "cell_type": "markdown",
   "id": "9fc4cd68",
   "metadata": {},
   "source": [
    "Independent and dependent variables"
   ]
  },
  {
   "cell_type": "code",
   "execution_count": 23,
   "id": "334bfc06",
   "metadata": {},
   "outputs": [],
   "source": [
    "x=df.iloc[:,:-1]\n",
    "y=df.iloc[:,-1]"
   ]
  },
  {
   "cell_type": "code",
   "execution_count": 24,
   "id": "6c3b978e",
   "metadata": {},
   "outputs": [
    {
     "data": {
      "text/html": [
       "<div>\n",
       "<style scoped>\n",
       "    .dataframe tbody tr th:only-of-type {\n",
       "        vertical-align: middle;\n",
       "    }\n",
       "\n",
       "    .dataframe tbody tr th {\n",
       "        vertical-align: top;\n",
       "    }\n",
       "\n",
       "    .dataframe thead th {\n",
       "        text-align: right;\n",
       "    }\n",
       "</style>\n",
       "<table border=\"1\" class=\"dataframe\">\n",
       "  <thead>\n",
       "    <tr style=\"text-align: right;\">\n",
       "      <th></th>\n",
       "      <th>age</th>\n",
       "      <th>anaemia</th>\n",
       "      <th>creatinine_phosphokinase</th>\n",
       "      <th>diabetes</th>\n",
       "      <th>ejection_fraction</th>\n",
       "      <th>high_blood_pressure</th>\n",
       "      <th>platelets</th>\n",
       "      <th>serum_creatinine</th>\n",
       "      <th>serum_sodium</th>\n",
       "      <th>sex</th>\n",
       "      <th>smoking</th>\n",
       "      <th>time</th>\n",
       "    </tr>\n",
       "  </thead>\n",
       "  <tbody>\n",
       "    <tr>\n",
       "      <th>0</th>\n",
       "      <td>1.197013</td>\n",
       "      <td>0</td>\n",
       "      <td>0.885051</td>\n",
       "      <td>0</td>\n",
       "      <td>-1.556152</td>\n",
       "      <td>1</td>\n",
       "      <td>0.136644</td>\n",
       "      <td>2.360754</td>\n",
       "      <td>-1.908282</td>\n",
       "      <td>1</td>\n",
       "      <td>0</td>\n",
       "      <td>4</td>\n",
       "    </tr>\n",
       "    <tr>\n",
       "      <th>2</th>\n",
       "      <td>0.357246</td>\n",
       "      <td>0</td>\n",
       "      <td>-0.679924</td>\n",
       "      <td>0</td>\n",
       "      <td>-1.556152</td>\n",
       "      <td>0</td>\n",
       "      <td>-1.397214</td>\n",
       "      <td>0.527505</td>\n",
       "      <td>-2.177105</td>\n",
       "      <td>1</td>\n",
       "      <td>1</td>\n",
       "      <td>7</td>\n",
       "    </tr>\n",
       "    <tr>\n",
       "      <th>3</th>\n",
       "      <td>-0.902405</td>\n",
       "      <td>1</td>\n",
       "      <td>-0.805553</td>\n",
       "      <td>0</td>\n",
       "      <td>-1.556152</td>\n",
       "      <td>0</td>\n",
       "      <td>-0.682406</td>\n",
       "      <td>2.360754</td>\n",
       "      <td>-0.026521</td>\n",
       "      <td>1</td>\n",
       "      <td>0</td>\n",
       "      <td>7</td>\n",
       "    </tr>\n",
       "    <tr>\n",
       "      <th>5</th>\n",
       "      <td>2.456664</td>\n",
       "      <td>1</td>\n",
       "      <td>-1.035274</td>\n",
       "      <td>0</td>\n",
       "      <td>0.165187</td>\n",
       "      <td>1</td>\n",
       "      <td>-0.771757</td>\n",
       "      <td>2.971837</td>\n",
       "      <td>-1.370636</td>\n",
       "      <td>1</td>\n",
       "      <td>1</td>\n",
       "      <td>8</td>\n",
       "    </tr>\n",
       "    <tr>\n",
       "      <th>6</th>\n",
       "      <td>1.197013</td>\n",
       "      <td>1</td>\n",
       "      <td>-0.320985</td>\n",
       "      <td>0</td>\n",
       "      <td>-1.986487</td>\n",
       "      <td>0</td>\n",
       "      <td>-1.918427</td>\n",
       "      <td>0.221963</td>\n",
       "      <td>-0.026521</td>\n",
       "      <td>1</td>\n",
       "      <td>0</td>\n",
       "      <td>10</td>\n",
       "    </tr>\n",
       "  </tbody>\n",
       "</table>\n",
       "</div>"
      ],
      "text/plain": [
       "        age  anaemia  creatinine_phosphokinase  diabetes  ejection_fraction  \\\n",
       "0  1.197013        0                  0.885051         0          -1.556152   \n",
       "2  0.357246        0                 -0.679924         0          -1.556152   \n",
       "3 -0.902405        1                 -0.805553         0          -1.556152   \n",
       "5  2.456664        1                 -1.035274         0           0.165187   \n",
       "6  1.197013        1                 -0.320985         0          -1.986487   \n",
       "\n",
       "   high_blood_pressure  platelets  serum_creatinine  serum_sodium  sex  \\\n",
       "0                    1   0.136644          2.360754     -1.908282    1   \n",
       "2                    0  -1.397214          0.527505     -2.177105    1   \n",
       "3                    0  -0.682406          2.360754     -0.026521    1   \n",
       "5                    1  -0.771757          2.971837     -1.370636    1   \n",
       "6                    0  -1.918427          0.221963     -0.026521    1   \n",
       "\n",
       "   smoking  time  \n",
       "0        0     4  \n",
       "2        1     7  \n",
       "3        0     7  \n",
       "5        1     8  \n",
       "6        0    10  "
      ]
     },
     "execution_count": 24,
     "metadata": {},
     "output_type": "execute_result"
    }
   ],
   "source": [
    "x.head()"
   ]
  },
  {
   "cell_type": "code",
   "execution_count": 25,
   "id": "91fabb23",
   "metadata": {},
   "outputs": [
    {
     "data": {
      "text/plain": [
       "0    1\n",
       "2    1\n",
       "3    1\n",
       "5    1\n",
       "6    1\n",
       "Name: DEATH_EVENT, dtype: int64"
      ]
     },
     "execution_count": 25,
     "metadata": {},
     "output_type": "execute_result"
    }
   ],
   "source": [
    "y.head()"
   ]
  },
  {
   "cell_type": "markdown",
   "id": "d5f240db",
   "metadata": {},
   "source": [
    "### Train, Test splitting"
   ]
  },
  {
   "cell_type": "code",
   "execution_count": 26,
   "id": "e3790d97",
   "metadata": {},
   "outputs": [],
   "source": [
    "from sklearn.model_selection import train_test_split\n",
    "xtrain,xtest,ytrain,ytest=train_test_split(x,y,test_size=0.2,random_state=1)"
   ]
  },
  {
   "cell_type": "markdown",
   "id": "b229342f",
   "metadata": {},
   "source": [
    "### Standardizing data"
   ]
  },
  {
   "cell_type": "code",
   "execution_count": 27,
   "id": "75d19cbf",
   "metadata": {},
   "outputs": [],
   "source": [
    "from sklearn.preprocessing import StandardScaler\n",
    "sc=StandardScaler()"
   ]
  },
  {
   "cell_type": "code",
   "execution_count": 28,
   "id": "df995ca9",
   "metadata": {},
   "outputs": [],
   "source": [
    "xtrain=sc.fit_transform(xtrain)\n",
    "xtest=sc.transform(xtest)"
   ]
  },
  {
   "cell_type": "markdown",
   "id": "5672b648",
   "metadata": {},
   "source": [
    "## Predicting the data using Logistic Regression:"
   ]
  },
  {
   "cell_type": "markdown",
   "id": "01963108",
   "metadata": {},
   "source": [
    "Implementation"
   ]
  },
  {
   "cell_type": "code",
   "execution_count": 29,
   "id": "2741740f",
   "metadata": {},
   "outputs": [],
   "source": [
    "logreg=LogisticRegression()\n",
    "logreg.fit(xtrain,ytrain)\n",
    "ypred=logreg.predict(xtest)"
   ]
  },
  {
   "cell_type": "code",
   "execution_count": 30,
   "id": "d48b7f23",
   "metadata": {},
   "outputs": [
    {
     "data": {
      "text/plain": [
       "array([0, 0, 0, 0, 0, 1, 0, 0, 0, 1, 0, 0, 0, 0, 0, 0, 0, 0, 0, 0, 0, 0,\n",
       "       0, 0, 0, 1, 1, 0, 0, 0, 1, 0, 0, 1, 1, 1, 1, 1, 1, 0, 0, 0, 1, 0,\n",
       "       0], dtype=int64)"
      ]
     },
     "execution_count": 30,
     "metadata": {},
     "output_type": "execute_result"
    }
   ],
   "source": [
    "ypred"
   ]
  },
  {
   "cell_type": "markdown",
   "id": "ef8d254c",
   "metadata": {},
   "source": [
    "Evaluation"
   ]
  },
  {
   "cell_type": "code",
   "execution_count": 31,
   "id": "96b129fe",
   "metadata": {},
   "outputs": [
    {
     "name": "stdout",
     "output_type": "stream",
     "text": [
      "              precision    recall  f1-score   support\n",
      "\n",
      "           0       0.85      1.00      0.92        28\n",
      "           1       1.00      0.71      0.83        17\n",
      "\n",
      "    accuracy                           0.89        45\n",
      "   macro avg       0.92      0.85      0.87        45\n",
      "weighted avg       0.91      0.89      0.88        45\n",
      "\n"
     ]
    }
   ],
   "source": [
    "accuracy_list=[]\n",
    "logreg_acc=accuracy_score(ytest,ypred)\n",
    "accuracy_list.append(100*logreg_acc)\n",
    "print(classification_report(ytest,ypred))"
   ]
  },
  {
   "cell_type": "markdown",
   "id": "66d11bfa",
   "metadata": {},
   "source": [
    "We have achieved an Average Accuracy of 89% which is little bit good.Lets see if we can increase this accuracy by hyper tuning."
   ]
  },
  {
   "cell_type": "markdown",
   "id": "c4095fd3",
   "metadata": {},
   "source": [
    "Confusion matrix"
   ]
  },
  {
   "cell_type": "code",
   "execution_count": 32,
   "id": "5b8f3b0e",
   "metadata": {},
   "outputs": [
    {
     "data": {
      "image/png": "[encoded data removed]",
      "text/plain": [
       "<Figure size 640x480 with 2 Axes>"
      ]
     },
     "metadata": {},
     "output_type": "display_data"
    }
   ],
   "source": [
    "cm=confusion_matrix(ytest,ypred)\n",
    "cmd=ConfusionMatrixDisplay(cm,display_labels=['No heart failure','heart failure'])\n",
    "cmd.plot()\n",
    "plt.show()"
   ]
  },
  {
   "cell_type": "markdown",
   "id": "efab2ca0",
   "metadata": {},
   "source": [
    "## HPT:"
   ]
  },
  {
   "cell_type": "code",
   "execution_count": 33,
   "id": "aba683b9",
   "metadata": {},
   "outputs": [],
   "source": [
    "logreg=LogisticRegression(solver=\"liblinear\")\n",
    "logreg.fit(xtrain,ytrain)\n",
    "ypred=logreg.predict(xtest)"
   ]
  },
  {
   "cell_type": "code",
   "execution_count": 34,
   "id": "e74dd0a3",
   "metadata": {},
   "outputs": [
    {
     "name": "stdout",
     "output_type": "stream",
     "text": [
      "Accuracy score: 0.8888888888888888\n",
      "              precision    recall  f1-score   support\n",
      "\n",
      "           0       0.85      1.00      0.92        28\n",
      "           1       1.00      0.71      0.83        17\n",
      "\n",
      "    accuracy                           0.89        45\n",
      "   macro avg       0.92      0.85      0.87        45\n",
      "weighted avg       0.91      0.89      0.88        45\n",
      "\n"
     ]
    }
   ],
   "source": [
    "ac=accuracy_score(ytest,ypred)\n",
    "cr=classification_report(ytest,ypred)\n",
    "print(\"Accuracy score:\",ac)\n",
    "print(cr)"
   ]
  },
  {
   "cell_type": "markdown",
   "id": "4ebc3d83",
   "metadata": {},
   "source": [
    "By using liblinear we get the same Accuracy of 89%"
   ]
  },
  {
   "cell_type": "code",
   "execution_count": 35,
   "id": "25a3634a",
   "metadata": {},
   "outputs": [],
   "source": [
    "logreg=LogisticRegression(solver='newton-cg')\n",
    "logreg.fit(xtrain,ytrain)\n",
    "ypred=logreg.predict(xtest)"
   ]
  },
  {
   "cell_type": "code",
   "execution_count": 36,
   "id": "c1219401",
   "metadata": {},
   "outputs": [
    {
     "name": "stdout",
     "output_type": "stream",
     "text": [
      "Accuracy score: 0.8888888888888888\n",
      "              precision    recall  f1-score   support\n",
      "\n",
      "           0       0.85      1.00      0.92        28\n",
      "           1       1.00      0.71      0.83        17\n",
      "\n",
      "    accuracy                           0.89        45\n",
      "   macro avg       0.92      0.85      0.87        45\n",
      "weighted avg       0.91      0.89      0.88        45\n",
      "\n"
     ]
    }
   ],
   "source": [
    "ac=accuracy_score(ytest,ypred)\n",
    "cr=classification_report(ytest,ypred)\n",
    "print(\"Accuracy score:\",ac)\n",
    "print(cr)"
   ]
  },
  {
   "cell_type": "markdown",
   "id": "1399f697",
   "metadata": {},
   "source": [
    "By using newton-cg we get the same Accuracy of 89%"
   ]
  },
  {
   "cell_type": "markdown",
   "id": "39e5338c",
   "metadata": {},
   "source": [
    "## Predicting the data using Support Vector Classifier(SVC):"
   ]
  },
  {
   "cell_type": "markdown",
   "id": "806e78cd",
   "metadata": {},
   "source": [
    "Implementation"
   ]
  },
  {
   "cell_type": "code",
   "execution_count": 37,
   "id": "d02c9ee9",
   "metadata": {},
   "outputs": [],
   "source": [
    "sv=SVC(C=0.7,kernel='linear',random_state=1,probability=True)\n",
    "sv.fit(xtrain,ytrain)\n",
    "sv_pred=sv.predict(xtest)"
   ]
  },
  {
   "cell_type": "code",
   "execution_count": 38,
   "id": "2e852f6e",
   "metadata": {},
   "outputs": [
    {
     "data": {
      "text/plain": [
       "array([0, 1, 0, 0, 0, 1, 0, 1, 0, 1, 0, 0, 0, 0, 0, 0, 0, 0, 0, 0, 0, 0,\n",
       "       0, 0, 0, 1, 1, 0, 0, 0, 1, 0, 0, 1, 1, 1, 1, 0, 1, 0, 0, 0, 1, 0,\n",
       "       0], dtype=int64)"
      ]
     },
     "execution_count": 38,
     "metadata": {},
     "output_type": "execute_result"
    }
   ],
   "source": [
    "sv_pred"
   ]
  },
  {
   "cell_type": "markdown",
   "id": "f5172760",
   "metadata": {},
   "source": [
    "Evaluation"
   ]
  },
  {
   "cell_type": "code",
   "execution_count": 39,
   "id": "03f4f3b2",
   "metadata": {},
   "outputs": [
    {
     "name": "stdout",
     "output_type": "stream",
     "text": [
      "              precision    recall  f1-score   support\n",
      "\n",
      "           0       0.88      1.00      0.93        28\n",
      "           1       1.00      0.76      0.87        17\n",
      "\n",
      "    accuracy                           0.91        45\n",
      "   macro avg       0.94      0.88      0.90        45\n",
      "weighted avg       0.92      0.91      0.91        45\n",
      "\n"
     ]
    }
   ],
   "source": [
    "sv_acc=accuracy_score(ytest,sv_pred)\n",
    "accuracy_list.append(100*sv_acc)\n",
    "print(classification_report(ytest,sv_pred))"
   ]
  },
  {
   "cell_type": "markdown",
   "id": "b3faaabe",
   "metadata": {},
   "source": [
    "By using Support Vector Classifier(SVC) we get 91% accuracy which is good."
   ]
  },
  {
   "cell_type": "markdown",
   "id": "be400ada",
   "metadata": {},
   "source": [
    "## Predicting the data using Decision Tree Classifier:"
   ]
  },
  {
   "cell_type": "markdown",
   "id": "6d6bb3ab",
   "metadata": {},
   "source": [
    "Implementation"
   ]
  },
  {
   "cell_type": "code",
   "execution_count": 40,
   "id": "ad2b23cb",
   "metadata": {},
   "outputs": [],
   "source": [
    "dt=DecisionTreeClassifier(max_leaf_nodes=3,random_state=1,criterion='entropy')\n",
    "dt.fit(xtrain,ytrain)\n",
    "dt_pred=dt.predict(xtest)"
   ]
  },
  {
   "cell_type": "code",
   "execution_count": 41,
   "id": "7a5ff3df",
   "metadata": {},
   "outputs": [
    {
     "data": {
      "text/plain": [
       "array([0, 1, 0, 0, 0, 0, 0, 1, 0, 1, 0, 0, 0, 0, 0, 1, 0, 0, 0, 0, 0, 0,\n",
       "       0, 0, 0, 1, 1, 1, 0, 0, 1, 0, 0, 1, 0, 1, 1, 1, 1, 0, 0, 0, 1, 1,\n",
       "       0], dtype=int64)"
      ]
     },
     "execution_count": 41,
     "metadata": {},
     "output_type": "execute_result"
    }
   ],
   "source": [
    "dt_pred"
   ]
  },
  {
   "cell_type": "markdown",
   "id": "262d3452",
   "metadata": {},
   "source": [
    "Evaluation"
   ]
  },
  {
   "cell_type": "code",
   "execution_count": 42,
   "id": "8f2bb569",
   "metadata": {},
   "outputs": [
    {
     "name": "stdout",
     "output_type": "stream",
     "text": [
      "              precision    recall  f1-score   support\n",
      "\n",
      "           0       0.83      0.89      0.86        28\n",
      "           1       0.80      0.71      0.75        17\n",
      "\n",
      "    accuracy                           0.82        45\n",
      "   macro avg       0.82      0.80      0.81        45\n",
      "weighted avg       0.82      0.82      0.82        45\n",
      "\n"
     ]
    }
   ],
   "source": [
    "dt_acc=accuracy_score(ytest,dt_pred)\n",
    "accuracy_list.append(100*dt_acc)\n",
    "print(classification_report(ytest,dt_pred))"
   ]
  },
  {
   "cell_type": "code",
   "execution_count": 43,
   "id": "90b1e02c",
   "metadata": {},
   "outputs": [],
   "source": [
    "def mymodel(model):\n",
    "    model.fit(xtrain,ytrain)\n",
    "    ypred = model.predict(xtest)\n",
    "    print(accuracy_score(ytest,ypred))\n",
    "    print(classification_report(ytest,ypred))\n",
    "    return model"
   ]
  },
  {
   "cell_type": "code",
   "execution_count": 44,
   "id": "4d6f86e3",
   "metadata": {},
   "outputs": [
    {
     "name": "stdout",
     "output_type": "stream",
     "text": [
      "0.8222222222222222\n",
      "              precision    recall  f1-score   support\n",
      "\n",
      "           0       0.83      0.89      0.86        28\n",
      "           1       0.80      0.71      0.75        17\n",
      "\n",
      "    accuracy                           0.82        45\n",
      "   macro avg       0.82      0.80      0.81        45\n",
      "weighted avg       0.82      0.82      0.82        45\n",
      "\n"
     ]
    },
    {
     "data": {
      "text/html": [
       "<style>#sk-container-id-1 {color: black;background-color: white;}#sk-container-id-1 pre{padding: 0;}#sk-container-id-1 div.sk-toggleable {background-color: white;}#sk-container-id-1 label.sk-toggleable__label {cursor: pointer;display: block;width: 100%;margin-bottom: 0;padding: 0.3em;box-sizing: border-box;text-align: center;}#sk-container-id-1 label.sk-toggleable__label-arrow:before {content: \"▸\";float: left;margin-right: 0.25em;color: #696969;}#sk-container-id-1 label.sk-toggleable__label-arrow:hover:before {color: black;}#sk-container-id-1 div.sk-estimator:hover label.sk-toggleable__label-arrow:before {color: black;}#sk-container-id-1 div.sk-toggleable__content {max-height: 0;max-width: 0;overflow: hidden;text-align: left;background-color: #f0f8ff;}#sk-container-id-1 div.sk-toggleable__content pre {margin: 0.2em;color: black;border-radius: 0.25em;background-color: #f0f8ff;}#sk-container-id-1 input.sk-toggleable__control:checked~div.sk-toggleable__content {max-height: 200px;max-width: 100%;overflow: auto;}#sk-container-id-1 input.sk-toggleable__control:checked~label.sk-toggleable__label-arrow:before {content: \"▾\";}#sk-container-id-1 div.sk-estimator input.sk-toggleable__control:checked~label.sk-toggleable__label {background-color: #d4ebff;}#sk-container-id-1 div.sk-label input.sk-toggleable__control:checked~label.sk-toggleable__label {background-color: #d4ebff;}#sk-container-id-1 input.sk-hidden--visually {border: 0;clip: rect(1px 1px 1px 1px);clip: rect(1px, 1px, 1px, 1px);height: 1px;margin: -1px;overflow: hidden;padding: 0;position: absolute;width: 1px;}#sk-container-id-1 div.sk-estimator {font-family: monospace;background-color: #f0f8ff;border: 1px dotted black;border-radius: 0.25em;box-sizing: border-box;margin-bottom: 0.5em;}#sk-container-id-1 div.sk-estimator:hover {background-color: #d4ebff;}#sk-container-id-1 div.sk-parallel-item::after {content: \"\";width: 100%;border-bottom: 1px solid gray;flex-grow: 1;}#sk-container-id-1 div.sk-label:hover label.sk-toggleable__label {background-color: #d4ebff;}#sk-container-id-1 div.sk-serial::before {content: \"\";position: absolute;border-left: 1px solid gray;box-sizing: border-box;top: 0;bottom: 0;left: 50%;z-index: 0;}#sk-container-id-1 div.sk-serial {display: flex;flex-direction: column;align-items: center;background-color: white;padding-right: 0.2em;padding-left: 0.2em;position: relative;}#sk-container-id-1 div.sk-item {position: relative;z-index: 1;}#sk-container-id-1 div.sk-parallel {display: flex;align-items: stretch;justify-content: center;background-color: white;position: relative;}#sk-container-id-1 div.sk-item::before, #sk-container-id-1 div.sk-parallel-item::before {content: \"\";position: absolute;border-left: 1px solid gray;box-sizing: border-box;top: 0;bottom: 0;left: 50%;z-index: -1;}#sk-container-id-1 div.sk-parallel-item {display: flex;flex-direction: column;z-index: 1;position: relative;background-color: white;}#sk-container-id-1 div.sk-parallel-item:first-child::after {align-self: flex-end;width: 50%;}#sk-container-id-1 div.sk-parallel-item:last-child::after {align-self: flex-start;width: 50%;}#sk-container-id-1 div.sk-parallel-item:only-child::after {width: 0;}#sk-container-id-1 div.sk-dashed-wrapped {border: 1px dashed gray;margin: 0 0.4em 0.5em 0.4em;box-sizing: border-box;padding-bottom: 0.4em;background-color: white;}#sk-container-id-1 div.sk-label label {font-family: monospace;font-weight: bold;display: inline-block;line-height: 1.2em;}#sk-container-id-1 div.sk-label-container {text-align: center;}#sk-container-id-1 div.sk-container {/* jupyter's `normalize.less` sets `[hidden] { display: none; }` but bootstrap.min.css set `[hidden] { display: none !important; }` so we also need the `!important` here to be able to override the default hidden behavior on the sphinx rendered scikit-learn.org. See: https://github.com/scikit-learn/scikit-learn/issues/21755 */display: inline-block !important;position: relative;}#sk-container-id-1 div.sk-text-repr-fallback {display: none;}</style><div id=\"sk-container-id-1\" class=\"sk-top-container\"><div class=\"sk-text-repr-fallback\"><pre>DecisionTreeClassifier(criterion=&#x27;entropy&#x27;, max_leaf_nodes=3, random_state=1)</pre><b>In a Jupyter environment, please rerun this cell to show the HTML representation or trust the notebook. <br />On GitHub, the HTML representation is unable to render, please try loading this page with nbviewer.org.</b></div><div class=\"sk-container\" hidden><div class=\"sk-item\"><div class=\"sk-estimator sk-toggleable\"><input class=\"sk-toggleable__control sk-hidden--visually\" id=\"sk-estimator-id-1\" type=\"checkbox\" checked><label for=\"sk-estimator-id-1\" class=\"sk-toggleable__label sk-toggleable__label-arrow\">DecisionTreeClassifier</label><div class=\"sk-toggleable__content\"><pre>DecisionTreeClassifier(criterion=&#x27;entropy&#x27;, max_leaf_nodes=3, random_state=1)</pre></div></div></div></div></div>"
      ],
      "text/plain": [
       "DecisionTreeClassifier(criterion='entropy', max_leaf_nodes=3, random_state=1)"
      ]
     },
     "execution_count": 44,
     "metadata": {},
     "output_type": "execute_result"
    }
   ],
   "source": [
    "mymodel(dt)"
   ]
  },
  {
   "cell_type": "markdown",
   "id": "543033ef",
   "metadata": {},
   "source": [
    "By using Decision Tree Classifier we get average accuracy of 82% which is not good."
   ]
  },
  {
   "cell_type": "code",
   "execution_count": 45,
   "id": "218e5deb",
   "metadata": {},
   "outputs": [
    {
     "data": {
      "image/png": "[encoded data removed]",
      "text/plain": [
       "<Figure size 2500x1000 with 1 Axes>"
      ]
     },
     "metadata": {},
     "output_type": "display_data"
    }
   ],
   "source": [
    "fig,ax=plt.subplots(figsize=(25,10))\n",
    "chart=tree.plot_tree(dt,max_depth=5,feature_names=x.columns,filled=True,fontsize=10)\n",
    "plt.savefig(\"DecisionTreeClassifier.jpg\")"
   ]
  },
  {
   "cell_type": "markdown",
   "id": "99cf3f48",
   "metadata": {},
   "source": [
    "## Predicting the data using Random Forest Classifier:"
   ]
  },
  {
   "cell_type": "markdown",
   "id": "3eb91cba",
   "metadata": {},
   "source": [
    "Implementation"
   ]
  },
  {
   "cell_type": "code",
   "execution_count": 46,
   "id": "810200a5",
   "metadata": {},
   "outputs": [],
   "source": [
    "rfc=RandomForestClassifier(max_features=0.5,max_depth=15,random_state=1)\n",
    "rfc.fit(xtrain,ytrain)\n",
    "rf_pred=rfc.predict(xtest)"
   ]
  },
  {
   "cell_type": "code",
   "execution_count": 47,
   "id": "ed09d8a1",
   "metadata": {},
   "outputs": [
    {
     "data": {
      "text/plain": [
       "array([0, 1, 0, 0, 0, 0, 0, 1, 0, 1, 0, 0, 0, 0, 0, 1, 0, 0, 0, 0, 0, 0,\n",
       "       0, 0, 0, 1, 1, 1, 0, 0, 1, 0, 1, 1, 0, 1, 1, 1, 1, 0, 0, 0, 1, 1,\n",
       "       0], dtype=int64)"
      ]
     },
     "execution_count": 47,
     "metadata": {},
     "output_type": "execute_result"
    }
   ],
   "source": [
    "rf_pred"
   ]
  },
  {
   "cell_type": "markdown",
   "id": "fe7763fc",
   "metadata": {},
   "source": [
    "Evaluation"
   ]
  },
  {
   "cell_type": "code",
   "execution_count": 48,
   "id": "44595068",
   "metadata": {},
   "outputs": [
    {
     "name": "stdout",
     "output_type": "stream",
     "text": [
      "              precision    recall  f1-score   support\n",
      "\n",
      "           0       0.86      0.89      0.88        28\n",
      "           1       0.81      0.76      0.79        17\n",
      "\n",
      "    accuracy                           0.84        45\n",
      "   macro avg       0.84      0.83      0.83        45\n",
      "weighted avg       0.84      0.84      0.84        45\n",
      "\n"
     ]
    }
   ],
   "source": [
    "rfc_acc=accuracy_score(ytest,rf_pred)\n",
    "accuracy_list.append(100*rfc_acc)\n",
    "print(classification_report(ytest,rf_pred))"
   ]
  },
  {
   "cell_type": "markdown",
   "id": "e2708967",
   "metadata": {},
   "source": [
    "By using Random Forest we get 84% of accuracy."
   ]
  },
  {
   "cell_type": "markdown",
   "id": "66153c24",
   "metadata": {},
   "source": [
    "## Predicting the data using Xgboost Classifier:"
   ]
  },
  {
   "cell_type": "markdown",
   "id": "bd0149e4",
   "metadata": {},
   "source": [
    "Implementation"
   ]
  },
  {
   "cell_type": "code",
   "execution_count": 49,
   "id": "996a1bd3",
   "metadata": {},
   "outputs": [],
   "source": [
    "xgb=xgboost.XGBRFClassifier(max_depth=3,random_state=1)\n",
    "xgb.fit(xtrain,ytrain)\n",
    "xgb_pred=xgb.predict(xtest)"
   ]
  },
  {
   "cell_type": "code",
   "execution_count": 50,
   "id": "0915108d",
   "metadata": {},
   "outputs": [
    {
     "data": {
      "text/plain": [
       "array([0, 1, 0, 0, 0, 0, 0, 1, 0, 1, 0, 0, 0, 0, 0, 1, 0, 0, 0, 0, 0, 0,\n",
       "       0, 0, 0, 1, 1, 1, 0, 0, 1, 0, 0, 1, 0, 1, 1, 1, 1, 0, 0, 0, 1, 1,\n",
       "       0])"
      ]
     },
     "execution_count": 50,
     "metadata": {},
     "output_type": "execute_result"
    }
   ],
   "source": [
    "xgb_pred"
   ]
  },
  {
   "cell_type": "markdown",
   "id": "c2c64c3e",
   "metadata": {},
   "source": [
    "Evaluation"
   ]
  },
  {
   "cell_type": "code",
   "execution_count": 51,
   "id": "4d7fe35a",
   "metadata": {},
   "outputs": [
    {
     "name": "stdout",
     "output_type": "stream",
     "text": [
      "              precision    recall  f1-score   support\n",
      "\n",
      "           0       0.83      0.89      0.86        28\n",
      "           1       0.80      0.71      0.75        17\n",
      "\n",
      "    accuracy                           0.82        45\n",
      "   macro avg       0.82      0.80      0.81        45\n",
      "weighted avg       0.82      0.82      0.82        45\n",
      "\n"
     ]
    }
   ],
   "source": [
    "xgb_acc=accuracy_score(ytest,xgb_pred)\n",
    "accuracy_list.append(100*xgb_acc)\n",
    "print(classification_report(ytest,xgb_pred))"
   ]
  },
  {
   "cell_type": "markdown",
   "id": "b0fe0282",
   "metadata": {},
   "source": [
    "By using XG Boost algorithm we get 82% of accuracy."
   ]
  },
  {
   "cell_type": "markdown",
   "id": "824bcbda",
   "metadata": {},
   "source": [
    "Here are the accuracy values for each model:\n",
    "\n",
    "     Logistic Regression: Accuracy=88.89(89%)\n",
    "     Support Vector Classifier (SVC): Accuracy=91.11(91%)\n",
    "     Decision Tree Classifier: Accuracy=82.22(82%)\n",
    "     Random Forest Classifier: Accuracy=84.44(84%)\n",
    "     XGBoost Classifier: Accuracy=82.22(82%)"
   ]
  },
  {
   "cell_type": "markdown",
   "id": "d2ea7145",
   "metadata": {},
   "source": [
    "## Comparing models"
   ]
  },
  {
   "cell_type": "code",
   "execution_count": 52,
   "id": "b6b6d1b5",
   "metadata": {},
   "outputs": [
    {
     "data": {
      "image/png": "[encoded data removed]",
      "text/plain": [
       "<Figure size 500x500 with 1 Axes>"
      ]
     },
     "metadata": {},
     "output_type": "display_data"
    }
   ],
   "source": [
    "model_list=['Logistic Regression','SVC','Decision Tree','Random Forest','XGB']\n",
    "plt.rcParams['figure.figsize']=5,5\n",
    "sns.set_style('darkgrid')\n",
    "ax=sns.barplot(x=model_list,y=accuracy_list,palette=\"tab10\",saturation =2)\n",
    "plt.xlabel('Classifier Models')\n",
    "plt.ylabel('Accuracy')\n",
    "plt.title('Accuracy of different Classifier Models')\n",
    "plt.xticks(rotation=10)\n",
    "plt.yticks\n",
    "for i in ax.patches:\n",
    "    width,height=i.get_width(),i.get_height()\n",
    "    x,y=i.get_xy() \n",
    "    ax.annotate(f'{round(height,2)}%',(x+width/2,y+height*1.01),ha='center')\n",
    "plt.show()"
   ]
  },
  {
   "cell_type": "markdown",
   "id": "8dfd7b19",
   "metadata": {},
   "source": [
    "### Conclusion:"
   ]
  },
  {
   "cell_type": "markdown",
   "id": "80ac4c71",
   "metadata": {},
   "source": [
    "These accuracy values represent how well each model performed in classifying the data.The models with higher accuracy are generally considered better at making predictions in this context The Logistic Regression and Support Vector Classifier(SVC) has the highest accuracy among the models listed."
   ]
  },
  {
   "cell_type": "code",
   "execution_count": null,
   "id": "b0f572af",
   "metadata": {},
   "outputs": [],
   "source": []
  },
  {
   "cell_type": "code",
   "execution_count": null,
   "id": "0ddf6e45",
   "metadata": {},
   "outputs": [],
   "source": []
  },
  {
   "cell_type": "code",
   "execution_count": null,
   "id": "1b4c921a",
   "metadata": {},
   "outputs": [],
   "source": []
  },
  {
   "cell_type": "code",
   "execution_count": null,
   "id": "c1bba377",
   "metadata": {},
   "outputs": [],
   "source": []
  },
  {
   "cell_type": "code",
   "execution_count": null,
   "id": "07180fe0",
   "metadata": {},
   "outputs": [],
   "source": []
  },
  {
   "cell_type": "code",
   "execution_count": null,
   "id": "a7eea685",
   "metadata": {},
   "outputs": [],
   "source": []
  },
  {
   "cell_type": "code",
   "execution_count": null,
   "id": "7a787906",
   "metadata": {},
   "outputs": [],
   "source": []
  }
 ],
 "metadata": {
  "kernelspec": {
   "display_name": "Python 3 (ipykernel)",
   "language": "python",
   "name": "python3"
  },
  "language_info": {
   "codemirror_mode": {
    "name": "ipython",
    "version": 3
   },
   "file_extension": ".py",
   "mimetype": "text/x-python",
   "name": "python",
   "nbconvert_exporter": "python",
   "pygments_lexer": "ipython3",
   "version": "3.10.9"
  }
 },
 "nbformat": 4,
 "nbformat_minor": 5
}
